{
 "cells": [
  {
   "cell_type": "markdown",
   "id": "1bef481f",
   "metadata": {},
   "source": [
    "**Описание проекта**\n",
    "\n",
    "Даны массивы данных крупного интернет-магазина:\n",
    "\n",
    "Данные для первой части состоят из одного датасета hypothesis.csv со столбцами:\n",
    "\n",
    "- Hypothesis — краткое описание гипотезы;\n",
    "- Reach — охват пользователей по 10-балльной шкале;\n",
    "- Impact — влияние на пользователей по 10-балльной шкале;\n",
    "- Confidence — уверенность в гипотезе по 10-балльной шкале;\n",
    "- Efforts — затраты ресурсов на проверку гипотезы по 10-балльной шкале. Чем больше значение Efforts, тем дороже проверка гипотезы.\n",
    "\n",
    "Данные для второй части состоят из двух датасетов: orders.csv со столбцами:\n",
    "\n",
    "- transactionId — идентификатор заказа;\n",
    "- visitorId — идентификатор пользователя, совершившего заказ;\n",
    "- date — дата, когда был совершён заказ;\n",
    "- revenue — выручка заказа;\n",
    "- group — группа A/B-теста, в которую попал заказ.\n",
    "\n",
    "и visitors.csv со столбцами:\n",
    "\n",
    "- date — дата;\n",
    "- group — группа A/B-теста;\n",
    "- visitors — количество пользователей в указанную дату в указанной группе A/B-теста\n",
    "\n",
    "Подготовлен список гипотез для увеличения выручки.\n",
    "Нужно приоритизировать гипотезы, запустить A/B-тест и проанализировать результаты."
   ]
  },
  {
   "cell_type": "code",
   "execution_count": 1,
   "id": "91116181",
   "metadata": {},
   "outputs": [],
   "source": [
    "import pandas as pd\n",
    "import datetime as dt\n",
    "import numpy as np\n",
    "import matplotlib.pyplot as plt\n",
    "from pandas.plotting import register_matplotlib_converters\n",
    "import warnings\n",
    "import scipy.stats as stats\n",
    " \n",
    "register_matplotlib_converters()\n"
   ]
  },
  {
   "cell_type": "code",
   "execution_count": 2,
   "id": "3872e776",
   "metadata": {},
   "outputs": [],
   "source": [
    "try:\n",
    "    hypothesis = pd.read_csv('datasets/hypothesis.csv')\n",
    "    orders = pd.read_csv('datasets/orders.csv', sep=',')\n",
    "    visitors = pd.read_csv('datasets/visitors.csv', sep=',')\n",
    "except:   \n",
    "    hypothesis = pd.read_csv('https://code.s3.yandex.net/datasets/hypothesis.csv')\n",
    "    orders = pd.read_csv('https://code.s3.yandex.net/datasets/orders.csv', sep=',')\n",
    "    visitors = pd.read_csv('https://code.s3.yandex.net/datasets/visitors.csv', sep=',')"
   ]
  },
  {
   "cell_type": "code",
   "execution_count": 3,
   "id": "5a6abb94",
   "metadata": {},
   "outputs": [
    {
     "name": "stdout",
     "output_type": "stream",
     "text": [
      "<class 'pandas.core.frame.DataFrame'>\n",
      "RangeIndex: 9 entries, 0 to 8\n",
      "Data columns (total 5 columns):\n",
      " #   Column      Non-Null Count  Dtype \n",
      "---  ------      --------------  ----- \n",
      " 0   Hypothesis  9 non-null      object\n",
      " 1   Reach       9 non-null      int64 \n",
      " 2   Impact      9 non-null      int64 \n",
      " 3   Confidence  9 non-null      int64 \n",
      " 4   Efforts     9 non-null      int64 \n",
      "dtypes: int64(4), object(1)\n",
      "memory usage: 488.0+ bytes\n",
      "<class 'pandas.core.frame.DataFrame'>\n",
      "RangeIndex: 1197 entries, 0 to 1196\n",
      "Data columns (total 5 columns):\n",
      " #   Column         Non-Null Count  Dtype \n",
      "---  ------         --------------  ----- \n",
      " 0   transactionId  1197 non-null   int64 \n",
      " 1   visitorId      1197 non-null   int64 \n",
      " 2   date           1197 non-null   object\n",
      " 3   revenue        1197 non-null   int64 \n",
      " 4   group          1197 non-null   object\n",
      "dtypes: int64(3), object(2)\n",
      "memory usage: 46.9+ KB\n",
      "<class 'pandas.core.frame.DataFrame'>\n",
      "RangeIndex: 62 entries, 0 to 61\n",
      "Data columns (total 3 columns):\n",
      " #   Column    Non-Null Count  Dtype \n",
      "---  ------    --------------  ----- \n",
      " 0   date      62 non-null     object\n",
      " 1   group     62 non-null     object\n",
      " 2   visitors  62 non-null     int64 \n",
      "dtypes: int64(1), object(2)\n",
      "memory usage: 1.6+ KB\n"
     ]
    },
    {
     "data": {
      "text/plain": [
       "None"
      ]
     },
     "metadata": {},
     "output_type": "display_data"
    },
    {
     "data": {
      "text/plain": [
       "None"
      ]
     },
     "metadata": {},
     "output_type": "display_data"
    },
    {
     "data": {
      "text/plain": [
       "None"
      ]
     },
     "metadata": {},
     "output_type": "display_data"
    }
   ],
   "source": [
    "display(hypothesis.info(), orders.info(), visitors.info())"
   ]
  },
  {
   "cell_type": "markdown",
   "id": "1f2df9e9",
   "metadata": {},
   "source": [
    "переименуем столбцы"
   ]
  },
  {
   "cell_type": "code",
   "execution_count": 4,
   "id": "020cb88e",
   "metadata": {},
   "outputs": [],
   "source": [
    "hypothesis.columns = hypothesis.columns.str.lower()"
   ]
  },
  {
   "cell_type": "code",
   "execution_count": 5,
   "id": "fb2f73e3",
   "metadata": {},
   "outputs": [],
   "source": [
    "orders = orders.rename(columns={'transactionId':'transaction_id',\n",
    "                        'visitorId':'visitor_id'})"
   ]
  },
  {
   "cell_type": "code",
   "execution_count": 6,
   "id": "a7e37bfa",
   "metadata": {},
   "outputs": [
    {
     "data": {
      "text/html": [
       "<div>\n",
       "<style scoped>\n",
       "    .dataframe tbody tr th:only-of-type {\n",
       "        vertical-align: middle;\n",
       "    }\n",
       "\n",
       "    .dataframe tbody tr th {\n",
       "        vertical-align: top;\n",
       "    }\n",
       "\n",
       "    .dataframe thead th {\n",
       "        text-align: right;\n",
       "    }\n",
       "</style>\n",
       "<table border=\"1\" class=\"dataframe\">\n",
       "  <thead>\n",
       "    <tr style=\"text-align: right;\">\n",
       "      <th></th>\n",
       "      <th>hypothesis</th>\n",
       "      <th>reach</th>\n",
       "      <th>impact</th>\n",
       "      <th>confidence</th>\n",
       "      <th>efforts</th>\n",
       "    </tr>\n",
       "  </thead>\n",
       "  <tbody>\n",
       "    <tr>\n",
       "      <th>0</th>\n",
       "      <td>Добавить два новых канала привлечения трафика,...</td>\n",
       "      <td>3</td>\n",
       "      <td>10</td>\n",
       "      <td>8</td>\n",
       "      <td>6</td>\n",
       "    </tr>\n",
       "    <tr>\n",
       "      <th>1</th>\n",
       "      <td>Запустить собственную службу доставки, что сок...</td>\n",
       "      <td>2</td>\n",
       "      <td>5</td>\n",
       "      <td>4</td>\n",
       "      <td>10</td>\n",
       "    </tr>\n",
       "    <tr>\n",
       "      <th>2</th>\n",
       "      <td>Добавить блоки рекомендаций товаров на сайт ин...</td>\n",
       "      <td>8</td>\n",
       "      <td>3</td>\n",
       "      <td>7</td>\n",
       "      <td>3</td>\n",
       "    </tr>\n",
       "    <tr>\n",
       "      <th>3</th>\n",
       "      <td>Изменить структура категорий, что увеличит кон...</td>\n",
       "      <td>8</td>\n",
       "      <td>3</td>\n",
       "      <td>3</td>\n",
       "      <td>8</td>\n",
       "    </tr>\n",
       "    <tr>\n",
       "      <th>4</th>\n",
       "      <td>Изменить цвет фона главной страницы, чтобы уве...</td>\n",
       "      <td>3</td>\n",
       "      <td>1</td>\n",
       "      <td>1</td>\n",
       "      <td>1</td>\n",
       "    </tr>\n",
       "  </tbody>\n",
       "</table>\n",
       "</div>"
      ],
      "text/plain": [
       "                                          hypothesis  reach  impact  \\\n",
       "0  Добавить два новых канала привлечения трафика,...      3      10   \n",
       "1  Запустить собственную службу доставки, что сок...      2       5   \n",
       "2  Добавить блоки рекомендаций товаров на сайт ин...      8       3   \n",
       "3  Изменить структура категорий, что увеличит кон...      8       3   \n",
       "4  Изменить цвет фона главной страницы, чтобы уве...      3       1   \n",
       "\n",
       "   confidence  efforts  \n",
       "0           8        6  \n",
       "1           4       10  \n",
       "2           7        3  \n",
       "3           3        8  \n",
       "4           1        1  "
      ]
     },
     "metadata": {},
     "output_type": "display_data"
    },
    {
     "data": {
      "text/html": [
       "<div>\n",
       "<style scoped>\n",
       "    .dataframe tbody tr th:only-of-type {\n",
       "        vertical-align: middle;\n",
       "    }\n",
       "\n",
       "    .dataframe tbody tr th {\n",
       "        vertical-align: top;\n",
       "    }\n",
       "\n",
       "    .dataframe thead th {\n",
       "        text-align: right;\n",
       "    }\n",
       "</style>\n",
       "<table border=\"1\" class=\"dataframe\">\n",
       "  <thead>\n",
       "    <tr style=\"text-align: right;\">\n",
       "      <th></th>\n",
       "      <th>transaction_id</th>\n",
       "      <th>visitor_id</th>\n",
       "      <th>date</th>\n",
       "      <th>revenue</th>\n",
       "      <th>group</th>\n",
       "    </tr>\n",
       "  </thead>\n",
       "  <tbody>\n",
       "    <tr>\n",
       "      <th>0</th>\n",
       "      <td>3667963787</td>\n",
       "      <td>3312258926</td>\n",
       "      <td>2019-08-15</td>\n",
       "      <td>1650</td>\n",
       "      <td>B</td>\n",
       "    </tr>\n",
       "    <tr>\n",
       "      <th>1</th>\n",
       "      <td>2804400009</td>\n",
       "      <td>3642806036</td>\n",
       "      <td>2019-08-15</td>\n",
       "      <td>730</td>\n",
       "      <td>B</td>\n",
       "    </tr>\n",
       "    <tr>\n",
       "      <th>2</th>\n",
       "      <td>2961555356</td>\n",
       "      <td>4069496402</td>\n",
       "      <td>2019-08-15</td>\n",
       "      <td>400</td>\n",
       "      <td>A</td>\n",
       "    </tr>\n",
       "    <tr>\n",
       "      <th>3</th>\n",
       "      <td>3797467345</td>\n",
       "      <td>1196621759</td>\n",
       "      <td>2019-08-15</td>\n",
       "      <td>9759</td>\n",
       "      <td>B</td>\n",
       "    </tr>\n",
       "    <tr>\n",
       "      <th>4</th>\n",
       "      <td>2282983706</td>\n",
       "      <td>2322279887</td>\n",
       "      <td>2019-08-15</td>\n",
       "      <td>2308</td>\n",
       "      <td>B</td>\n",
       "    </tr>\n",
       "  </tbody>\n",
       "</table>\n",
       "</div>"
      ],
      "text/plain": [
       "   transaction_id  visitor_id        date  revenue group\n",
       "0      3667963787  3312258926  2019-08-15     1650     B\n",
       "1      2804400009  3642806036  2019-08-15      730     B\n",
       "2      2961555356  4069496402  2019-08-15      400     A\n",
       "3      3797467345  1196621759  2019-08-15     9759     B\n",
       "4      2282983706  2322279887  2019-08-15     2308     B"
      ]
     },
     "metadata": {},
     "output_type": "display_data"
    },
    {
     "data": {
      "text/html": [
       "<div>\n",
       "<style scoped>\n",
       "    .dataframe tbody tr th:only-of-type {\n",
       "        vertical-align: middle;\n",
       "    }\n",
       "\n",
       "    .dataframe tbody tr th {\n",
       "        vertical-align: top;\n",
       "    }\n",
       "\n",
       "    .dataframe thead th {\n",
       "        text-align: right;\n",
       "    }\n",
       "</style>\n",
       "<table border=\"1\" class=\"dataframe\">\n",
       "  <thead>\n",
       "    <tr style=\"text-align: right;\">\n",
       "      <th></th>\n",
       "      <th>date</th>\n",
       "      <th>group</th>\n",
       "      <th>visitors</th>\n",
       "    </tr>\n",
       "  </thead>\n",
       "  <tbody>\n",
       "    <tr>\n",
       "      <th>0</th>\n",
       "      <td>2019-08-01</td>\n",
       "      <td>A</td>\n",
       "      <td>719</td>\n",
       "    </tr>\n",
       "    <tr>\n",
       "      <th>1</th>\n",
       "      <td>2019-08-02</td>\n",
       "      <td>A</td>\n",
       "      <td>619</td>\n",
       "    </tr>\n",
       "    <tr>\n",
       "      <th>2</th>\n",
       "      <td>2019-08-03</td>\n",
       "      <td>A</td>\n",
       "      <td>507</td>\n",
       "    </tr>\n",
       "    <tr>\n",
       "      <th>3</th>\n",
       "      <td>2019-08-04</td>\n",
       "      <td>A</td>\n",
       "      <td>717</td>\n",
       "    </tr>\n",
       "    <tr>\n",
       "      <th>4</th>\n",
       "      <td>2019-08-05</td>\n",
       "      <td>A</td>\n",
       "      <td>756</td>\n",
       "    </tr>\n",
       "  </tbody>\n",
       "</table>\n",
       "</div>"
      ],
      "text/plain": [
       "         date group  visitors\n",
       "0  2019-08-01     A       719\n",
       "1  2019-08-02     A       619\n",
       "2  2019-08-03     A       507\n",
       "3  2019-08-04     A       717\n",
       "4  2019-08-05     A       756"
      ]
     },
     "metadata": {},
     "output_type": "display_data"
    }
   ],
   "source": [
    "display(hypothesis.head(), orders.head(), visitors.head())"
   ]
  },
  {
   "cell_type": "markdown",
   "id": "5f7d27f9",
   "metadata": {},
   "source": [
    "сделаем проверку на явные дубликаты"
   ]
  },
  {
   "cell_type": "code",
   "execution_count": 7,
   "id": "2e58541a",
   "metadata": {},
   "outputs": [
    {
     "data": {
      "text/plain": [
       "False    9\n",
       "dtype: int64"
      ]
     },
     "execution_count": 7,
     "metadata": {},
     "output_type": "execute_result"
    }
   ],
   "source": [
    "hypothesis.duplicated(subset=None, keep='first').value_counts()"
   ]
  },
  {
   "cell_type": "code",
   "execution_count": 8,
   "id": "20d8104e",
   "metadata": {},
   "outputs": [
    {
     "data": {
      "text/plain": [
       "False    1197\n",
       "dtype: int64"
      ]
     },
     "execution_count": 8,
     "metadata": {},
     "output_type": "execute_result"
    }
   ],
   "source": [
    "orders.duplicated(subset=None, keep='first').value_counts()"
   ]
  },
  {
   "cell_type": "code",
   "execution_count": 9,
   "id": "a158efa6",
   "metadata": {},
   "outputs": [
    {
     "data": {
      "text/plain": [
       "False    62\n",
       "dtype: int64"
      ]
     },
     "execution_count": 9,
     "metadata": {},
     "output_type": "execute_result"
    }
   ],
   "source": [
    "visitors.duplicated(subset=None, keep='first').value_counts()"
   ]
  },
  {
   "cell_type": "markdown",
   "id": "55d0aedf",
   "metadata": {},
   "source": [
    "приведем даты к соответствующему типу данных"
   ]
  },
  {
   "cell_type": "code",
   "execution_count": 10,
   "id": "73504a34",
   "metadata": {},
   "outputs": [
    {
     "data": {
      "text/plain": [
       "Timestamp('2019-08-01 00:00:00')"
      ]
     },
     "execution_count": 10,
     "metadata": {},
     "output_type": "execute_result"
    }
   ],
   "source": [
    "orders['date'] = orders['date'].map(lambda x: dt.datetime.strptime(x, '%Y-%m-%d'))\n",
    "\n",
    "orders['date'].min()"
   ]
  },
  {
   "cell_type": "code",
   "execution_count": 11,
   "id": "d27aa247",
   "metadata": {
    "scrolled": true
   },
   "outputs": [
    {
     "data": {
      "text/plain": [
       "Timestamp('2019-08-31 00:00:00')"
      ]
     },
     "execution_count": 11,
     "metadata": {},
     "output_type": "execute_result"
    }
   ],
   "source": [
    "orders['date'].max()"
   ]
  },
  {
   "cell_type": "code",
   "execution_count": 12,
   "id": "9cad0dea",
   "metadata": {},
   "outputs": [
    {
     "data": {
      "text/plain": [
       "Timestamp('2019-08-01 00:00:00')"
      ]
     },
     "execution_count": 12,
     "metadata": {},
     "output_type": "execute_result"
    }
   ],
   "source": [
    "visitors['date'] = visitors['date'].map(lambda x: dt.datetime.strptime(x, '%Y-%m-%d'))\n",
    "\n",
    "visitors['date'].min()"
   ]
  },
  {
   "cell_type": "code",
   "execution_count": 13,
   "id": "3bb352ba",
   "metadata": {
    "scrolled": true
   },
   "outputs": [
    {
     "data": {
      "text/plain": [
       "Timestamp('2019-08-31 00:00:00')"
      ]
     },
     "execution_count": 13,
     "metadata": {},
     "output_type": "execute_result"
    }
   ],
   "source": [
    "visitors['date'].max()"
   ]
  },
  {
   "cell_type": "markdown",
   "id": "d17d5657",
   "metadata": {},
   "source": [
    "проверим, есть ли в датасете пользователи, которые попали в обе группы"
   ]
  },
  {
   "cell_type": "code",
   "execution_count": 14,
   "id": "ae44e2f5",
   "metadata": {},
   "outputs": [
    {
     "data": {
      "text/html": [
       "<div>\n",
       "<style scoped>\n",
       "    .dataframe tbody tr th:only-of-type {\n",
       "        vertical-align: middle;\n",
       "    }\n",
       "\n",
       "    .dataframe tbody tr th {\n",
       "        vertical-align: top;\n",
       "    }\n",
       "\n",
       "    .dataframe thead th {\n",
       "        text-align: right;\n",
       "    }\n",
       "</style>\n",
       "<table border=\"1\" class=\"dataframe\">\n",
       "  <thead>\n",
       "    <tr style=\"text-align: right;\">\n",
       "      <th></th>\n",
       "      <th>transaction_id</th>\n",
       "      <th>visitor_id</th>\n",
       "      <th>date</th>\n",
       "      <th>revenue</th>\n",
       "      <th>group</th>\n",
       "    </tr>\n",
       "  </thead>\n",
       "  <tbody>\n",
       "    <tr>\n",
       "      <th>2</th>\n",
       "      <td>2961555356</td>\n",
       "      <td>4069496402</td>\n",
       "      <td>2019-08-15</td>\n",
       "      <td>400</td>\n",
       "      <td>A</td>\n",
       "    </tr>\n",
       "    <tr>\n",
       "      <th>7</th>\n",
       "      <td>2626614568</td>\n",
       "      <td>78758296</td>\n",
       "      <td>2019-08-15</td>\n",
       "      <td>1044</td>\n",
       "      <td>A</td>\n",
       "    </tr>\n",
       "    <tr>\n",
       "      <th>8</th>\n",
       "      <td>1576988021</td>\n",
       "      <td>295230930</td>\n",
       "      <td>2019-08-15</td>\n",
       "      <td>13710</td>\n",
       "      <td>A</td>\n",
       "    </tr>\n",
       "    <tr>\n",
       "      <th>10</th>\n",
       "      <td>3649131742</td>\n",
       "      <td>879864040</td>\n",
       "      <td>2019-08-15</td>\n",
       "      <td>4008</td>\n",
       "      <td>A</td>\n",
       "    </tr>\n",
       "    <tr>\n",
       "      <th>12</th>\n",
       "      <td>2809384911</td>\n",
       "      <td>3213223594</td>\n",
       "      <td>2019-08-15</td>\n",
       "      <td>7370</td>\n",
       "      <td>A</td>\n",
       "    </tr>\n",
       "    <tr>\n",
       "      <th>...</th>\n",
       "      <td>...</td>\n",
       "      <td>...</td>\n",
       "      <td>...</td>\n",
       "      <td>...</td>\n",
       "      <td>...</td>\n",
       "    </tr>\n",
       "    <tr>\n",
       "      <th>1187</th>\n",
       "      <td>2274188238</td>\n",
       "      <td>132143192</td>\n",
       "      <td>2019-08-14</td>\n",
       "      <td>750</td>\n",
       "      <td>A</td>\n",
       "    </tr>\n",
       "    <tr>\n",
       "      <th>1188</th>\n",
       "      <td>1692103379</td>\n",
       "      <td>1022829655</td>\n",
       "      <td>2019-08-14</td>\n",
       "      <td>112</td>\n",
       "      <td>A</td>\n",
       "    </tr>\n",
       "    <tr>\n",
       "      <th>1193</th>\n",
       "      <td>2203539145</td>\n",
       "      <td>370388673</td>\n",
       "      <td>2019-08-14</td>\n",
       "      <td>3190</td>\n",
       "      <td>A</td>\n",
       "    </tr>\n",
       "    <tr>\n",
       "      <th>1194</th>\n",
       "      <td>1807773912</td>\n",
       "      <td>573423106</td>\n",
       "      <td>2019-08-14</td>\n",
       "      <td>10550</td>\n",
       "      <td>A</td>\n",
       "    </tr>\n",
       "    <tr>\n",
       "      <th>1195</th>\n",
       "      <td>1947021204</td>\n",
       "      <td>1614305549</td>\n",
       "      <td>2019-08-14</td>\n",
       "      <td>100</td>\n",
       "      <td>A</td>\n",
       "    </tr>\n",
       "  </tbody>\n",
       "</table>\n",
       "<p>557 rows × 5 columns</p>\n",
       "</div>"
      ],
      "text/plain": [
       "      transaction_id  visitor_id       date  revenue group\n",
       "2         2961555356  4069496402 2019-08-15      400     A\n",
       "7         2626614568    78758296 2019-08-15     1044     A\n",
       "8         1576988021   295230930 2019-08-15    13710     A\n",
       "10        3649131742   879864040 2019-08-15     4008     A\n",
       "12        2809384911  3213223594 2019-08-15     7370     A\n",
       "...              ...         ...        ...      ...   ...\n",
       "1187      2274188238   132143192 2019-08-14      750     A\n",
       "1188      1692103379  1022829655 2019-08-14      112     A\n",
       "1193      2203539145   370388673 2019-08-14     3190     A\n",
       "1194      1807773912   573423106 2019-08-14    10550     A\n",
       "1195      1947021204  1614305549 2019-08-14      100     A\n",
       "\n",
       "[557 rows x 5 columns]"
      ]
     },
     "execution_count": 14,
     "metadata": {},
     "output_type": "execute_result"
    }
   ],
   "source": [
    "a = orders.query('group==\"A\"')\n",
    "a"
   ]
  },
  {
   "cell_type": "code",
   "execution_count": 15,
   "id": "17bb4ba7",
   "metadata": {},
   "outputs": [
    {
     "data": {
      "text/html": [
       "<div>\n",
       "<style scoped>\n",
       "    .dataframe tbody tr th:only-of-type {\n",
       "        vertical-align: middle;\n",
       "    }\n",
       "\n",
       "    .dataframe tbody tr th {\n",
       "        vertical-align: top;\n",
       "    }\n",
       "\n",
       "    .dataframe thead th {\n",
       "        text-align: right;\n",
       "    }\n",
       "</style>\n",
       "<table border=\"1\" class=\"dataframe\">\n",
       "  <thead>\n",
       "    <tr style=\"text-align: right;\">\n",
       "      <th></th>\n",
       "      <th>transaction_id</th>\n",
       "      <th>visitor_id</th>\n",
       "      <th>date</th>\n",
       "      <th>revenue</th>\n",
       "      <th>group</th>\n",
       "    </tr>\n",
       "  </thead>\n",
       "  <tbody>\n",
       "    <tr>\n",
       "      <th>0</th>\n",
       "      <td>3667963787</td>\n",
       "      <td>3312258926</td>\n",
       "      <td>2019-08-15</td>\n",
       "      <td>1650</td>\n",
       "      <td>B</td>\n",
       "    </tr>\n",
       "    <tr>\n",
       "      <th>1</th>\n",
       "      <td>2804400009</td>\n",
       "      <td>3642806036</td>\n",
       "      <td>2019-08-15</td>\n",
       "      <td>730</td>\n",
       "      <td>B</td>\n",
       "    </tr>\n",
       "    <tr>\n",
       "      <th>3</th>\n",
       "      <td>3797467345</td>\n",
       "      <td>1196621759</td>\n",
       "      <td>2019-08-15</td>\n",
       "      <td>9759</td>\n",
       "      <td>B</td>\n",
       "    </tr>\n",
       "    <tr>\n",
       "      <th>4</th>\n",
       "      <td>2282983706</td>\n",
       "      <td>2322279887</td>\n",
       "      <td>2019-08-15</td>\n",
       "      <td>2308</td>\n",
       "      <td>B</td>\n",
       "    </tr>\n",
       "    <tr>\n",
       "      <th>5</th>\n",
       "      <td>182168103</td>\n",
       "      <td>935554773</td>\n",
       "      <td>2019-08-15</td>\n",
       "      <td>2210</td>\n",
       "      <td>B</td>\n",
       "    </tr>\n",
       "    <tr>\n",
       "      <th>...</th>\n",
       "      <td>...</td>\n",
       "      <td>...</td>\n",
       "      <td>...</td>\n",
       "      <td>...</td>\n",
       "      <td>...</td>\n",
       "    </tr>\n",
       "    <tr>\n",
       "      <th>1189</th>\n",
       "      <td>4082620617</td>\n",
       "      <td>393266494</td>\n",
       "      <td>2019-08-14</td>\n",
       "      <td>31550</td>\n",
       "      <td>B</td>\n",
       "    </tr>\n",
       "    <tr>\n",
       "      <th>1190</th>\n",
       "      <td>38478481</td>\n",
       "      <td>1197745035</td>\n",
       "      <td>2019-08-14</td>\n",
       "      <td>8600</td>\n",
       "      <td>B</td>\n",
       "    </tr>\n",
       "    <tr>\n",
       "      <th>1191</th>\n",
       "      <td>3592955527</td>\n",
       "      <td>608641596</td>\n",
       "      <td>2019-08-14</td>\n",
       "      <td>16490</td>\n",
       "      <td>B</td>\n",
       "    </tr>\n",
       "    <tr>\n",
       "      <th>1192</th>\n",
       "      <td>2662137336</td>\n",
       "      <td>3733762160</td>\n",
       "      <td>2019-08-14</td>\n",
       "      <td>6490</td>\n",
       "      <td>B</td>\n",
       "    </tr>\n",
       "    <tr>\n",
       "      <th>1196</th>\n",
       "      <td>3936777065</td>\n",
       "      <td>2108080724</td>\n",
       "      <td>2019-08-15</td>\n",
       "      <td>202740</td>\n",
       "      <td>B</td>\n",
       "    </tr>\n",
       "  </tbody>\n",
       "</table>\n",
       "<p>640 rows × 5 columns</p>\n",
       "</div>"
      ],
      "text/plain": [
       "      transaction_id  visitor_id       date  revenue group\n",
       "0         3667963787  3312258926 2019-08-15     1650     B\n",
       "1         2804400009  3642806036 2019-08-15      730     B\n",
       "3         3797467345  1196621759 2019-08-15     9759     B\n",
       "4         2282983706  2322279887 2019-08-15     2308     B\n",
       "5          182168103   935554773 2019-08-15     2210     B\n",
       "...              ...         ...        ...      ...   ...\n",
       "1189      4082620617   393266494 2019-08-14    31550     B\n",
       "1190        38478481  1197745035 2019-08-14     8600     B\n",
       "1191      3592955527   608641596 2019-08-14    16490     B\n",
       "1192      2662137336  3733762160 2019-08-14     6490     B\n",
       "1196      3936777065  2108080724 2019-08-15   202740     B\n",
       "\n",
       "[640 rows x 5 columns]"
      ]
     },
     "execution_count": 15,
     "metadata": {},
     "output_type": "execute_result"
    }
   ],
   "source": [
    "b = orders.query('group==\"B\"')\n",
    "b"
   ]
  },
  {
   "cell_type": "code",
   "execution_count": 16,
   "id": "a7ccdc9a",
   "metadata": {},
   "outputs": [
    {
     "data": {
      "text/plain": [
       "58"
      ]
     },
     "execution_count": 16,
     "metadata": {},
     "output_type": "execute_result"
    }
   ],
   "source": [
    "c = list(set(a['visitor_id']) & set(b['visitor_id']))\n",
    "\n",
    "len(c)"
   ]
  },
  {
   "cell_type": "markdown",
   "id": "5d0056ad",
   "metadata": {},
   "source": [
    "обнаружено 58 пользователей, и их нужно отфильтровать"
   ]
  },
  {
   "cell_type": "code",
   "execution_count": 17,
   "id": "32a8ed6a",
   "metadata": {},
   "outputs": [
    {
     "data": {
      "text/html": [
       "<div>\n",
       "<style scoped>\n",
       "    .dataframe tbody tr th:only-of-type {\n",
       "        vertical-align: middle;\n",
       "    }\n",
       "\n",
       "    .dataframe tbody tr th {\n",
       "        vertical-align: top;\n",
       "    }\n",
       "\n",
       "    .dataframe thead th {\n",
       "        text-align: right;\n",
       "    }\n",
       "</style>\n",
       "<table border=\"1\" class=\"dataframe\">\n",
       "  <thead>\n",
       "    <tr style=\"text-align: right;\">\n",
       "      <th></th>\n",
       "      <th>transaction_id</th>\n",
       "      <th>visitor_id</th>\n",
       "      <th>date</th>\n",
       "      <th>revenue</th>\n",
       "      <th>group</th>\n",
       "    </tr>\n",
       "  </thead>\n",
       "  <tbody>\n",
       "    <tr>\n",
       "      <th>0</th>\n",
       "      <td>3667963787</td>\n",
       "      <td>3312258926</td>\n",
       "      <td>2019-08-15</td>\n",
       "      <td>1650</td>\n",
       "      <td>B</td>\n",
       "    </tr>\n",
       "    <tr>\n",
       "      <th>1</th>\n",
       "      <td>2804400009</td>\n",
       "      <td>3642806036</td>\n",
       "      <td>2019-08-15</td>\n",
       "      <td>730</td>\n",
       "      <td>B</td>\n",
       "    </tr>\n",
       "    <tr>\n",
       "      <th>3</th>\n",
       "      <td>3797467345</td>\n",
       "      <td>1196621759</td>\n",
       "      <td>2019-08-15</td>\n",
       "      <td>9759</td>\n",
       "      <td>B</td>\n",
       "    </tr>\n",
       "    <tr>\n",
       "      <th>4</th>\n",
       "      <td>2282983706</td>\n",
       "      <td>2322279887</td>\n",
       "      <td>2019-08-15</td>\n",
       "      <td>2308</td>\n",
       "      <td>B</td>\n",
       "    </tr>\n",
       "    <tr>\n",
       "      <th>5</th>\n",
       "      <td>182168103</td>\n",
       "      <td>935554773</td>\n",
       "      <td>2019-08-15</td>\n",
       "      <td>2210</td>\n",
       "      <td>B</td>\n",
       "    </tr>\n",
       "    <tr>\n",
       "      <th>...</th>\n",
       "      <td>...</td>\n",
       "      <td>...</td>\n",
       "      <td>...</td>\n",
       "      <td>...</td>\n",
       "      <td>...</td>\n",
       "    </tr>\n",
       "    <tr>\n",
       "      <th>1191</th>\n",
       "      <td>3592955527</td>\n",
       "      <td>608641596</td>\n",
       "      <td>2019-08-14</td>\n",
       "      <td>16490</td>\n",
       "      <td>B</td>\n",
       "    </tr>\n",
       "    <tr>\n",
       "      <th>1192</th>\n",
       "      <td>2662137336</td>\n",
       "      <td>3733762160</td>\n",
       "      <td>2019-08-14</td>\n",
       "      <td>6490</td>\n",
       "      <td>B</td>\n",
       "    </tr>\n",
       "    <tr>\n",
       "      <th>1193</th>\n",
       "      <td>2203539145</td>\n",
       "      <td>370388673</td>\n",
       "      <td>2019-08-14</td>\n",
       "      <td>3190</td>\n",
       "      <td>A</td>\n",
       "    </tr>\n",
       "    <tr>\n",
       "      <th>1194</th>\n",
       "      <td>1807773912</td>\n",
       "      <td>573423106</td>\n",
       "      <td>2019-08-14</td>\n",
       "      <td>10550</td>\n",
       "      <td>A</td>\n",
       "    </tr>\n",
       "    <tr>\n",
       "      <th>1196</th>\n",
       "      <td>3936777065</td>\n",
       "      <td>2108080724</td>\n",
       "      <td>2019-08-15</td>\n",
       "      <td>202740</td>\n",
       "      <td>B</td>\n",
       "    </tr>\n",
       "  </tbody>\n",
       "</table>\n",
       "<p>1016 rows × 5 columns</p>\n",
       "</div>"
      ],
      "text/plain": [
       "      transaction_id  visitor_id       date  revenue group\n",
       "0         3667963787  3312258926 2019-08-15     1650     B\n",
       "1         2804400009  3642806036 2019-08-15      730     B\n",
       "3         3797467345  1196621759 2019-08-15     9759     B\n",
       "4         2282983706  2322279887 2019-08-15     2308     B\n",
       "5          182168103   935554773 2019-08-15     2210     B\n",
       "...              ...         ...        ...      ...   ...\n",
       "1191      3592955527   608641596 2019-08-14    16490     B\n",
       "1192      2662137336  3733762160 2019-08-14     6490     B\n",
       "1193      2203539145   370388673 2019-08-14     3190     A\n",
       "1194      1807773912   573423106 2019-08-14    10550     A\n",
       "1196      3936777065  2108080724 2019-08-15   202740     B\n",
       "\n",
       "[1016 rows x 5 columns]"
      ]
     },
     "execution_count": 17,
     "metadata": {},
     "output_type": "execute_result"
    }
   ],
   "source": [
    "orders = orders.query('visitor_id not in @c')\n",
    "\n",
    "orders"
   ]
  },
  {
   "cell_type": "markdown",
   "id": "47a745fa",
   "metadata": {},
   "source": [
    "Теперь данные не содержат пропусков и дубликатов, датафреймы содержат данные с 1 по 31 августа 2019 г"
   ]
  },
  {
   "cell_type": "markdown",
   "id": "f5dd456a",
   "metadata": {},
   "source": [
    "**Часть 1. Приоритизация гипотез**\n",
    "\n",
    "В файле с гипотезами имеется 9 гипотез по увеличению выручки интернет-магазина с указанными параметрами \n",
    "\n",
    "Нужно: \n",
    "\n",
    "Применить фреймворк ICE для приоритизации гипотез. Отсортировать их по убыванию приоритета.\n",
    "Применить фреймворк RICE для приоритизации гипотез. Отсортировать их по убыванию приоритета.\n",
    "Указать, как изменилась приоритизация гипотез при применении RICE вместо ICE. Объяснить, почему так произошло."
   ]
  },
  {
   "cell_type": "code",
   "execution_count": 18,
   "id": "f68dca63",
   "metadata": {},
   "outputs": [],
   "source": [
    "hypothesis\n",
    "pd.options.display.max_colwidth = 1"
   ]
  },
  {
   "cell_type": "code",
   "execution_count": 19,
   "id": "d7748b64",
   "metadata": {},
   "outputs": [
    {
     "name": "stdout",
     "output_type": "stream",
     "text": [
      "                                                                                                     hypothesis  \\\n",
      "8  Запустить акцию, дающую скидку на товар в день рождения                                                        \n",
      "0  Добавить два новых канала привлечения трафика, что позволит привлекать на 30% больше пользователей             \n",
      "7  Добавить форму подписки на все основные страницы, чтобы собрать базу клиентов для email-рассылок               \n",
      "6  Показать на главной странице баннеры с актуальными акциями и распродажами, чтобы увеличить конверсию           \n",
      "2  Добавить блоки рекомендаций товаров на сайт интернет магазина, чтобы повысить конверсию и средний чек заказа   \n",
      "1  Запустить собственную службу доставки, что сократит срок доставки заказов                                      \n",
      "5  Добавить страницу отзывов клиентов о магазине, что позволит увеличить количество заказов                       \n",
      "3  Изменить структура категорий, что увеличит конверсию, т.к. пользователи быстрее найдут нужный товар            \n",
      "4  Изменить цвет фона главной страницы, чтобы увеличить вовлеченность пользователей                               \n",
      "\n",
      "      ICE  \n",
      "8  16.200  \n",
      "0  13.333  \n",
      "7  11.200  \n",
      "6  8.000   \n",
      "2  7.000   \n",
      "1  2.000   \n",
      "5  1.333   \n",
      "3  1.125   \n",
      "4  1.000   \n"
     ]
    }
   ],
   "source": [
    "hypothesis['ICE']=round(hypothesis['impact']*hypothesis['confidence']/hypothesis['efforts'],3)\n",
    "\n",
    "print(hypothesis[['hypothesis','ICE']].sort_values(by='ICE', ascending=False))"
   ]
  },
  {
   "cell_type": "code",
   "execution_count": 20,
   "id": "350ac309",
   "metadata": {},
   "outputs": [
    {
     "name": "stdout",
     "output_type": "stream",
     "text": [
      "                                                                                                     hypothesis  \\\n",
      "7  Добавить форму подписки на все основные страницы, чтобы собрать базу клиентов для email-рассылок               \n",
      "2  Добавить блоки рекомендаций товаров на сайт интернет магазина, чтобы повысить конверсию и средний чек заказа   \n",
      "0  Добавить два новых канала привлечения трафика, что позволит привлекать на 30% больше пользователей             \n",
      "6  Показать на главной странице баннеры с актуальными акциями и распродажами, чтобы увеличить конверсию           \n",
      "8  Запустить акцию, дающую скидку на товар в день рождения                                                        \n",
      "3  Изменить структура категорий, что увеличит конверсию, т.к. пользователи быстрее найдут нужный товар            \n",
      "1  Запустить собственную службу доставки, что сократит срок доставки заказов                                      \n",
      "5  Добавить страницу отзывов клиентов о магазине, что позволит увеличить количество заказов                       \n",
      "4  Изменить цвет фона главной страницы, чтобы увеличить вовлеченность пользователей                               \n",
      "\n",
      "    RICE  \n",
      "7  112.0  \n",
      "2  56.0   \n",
      "0  40.0   \n",
      "6  40.0   \n",
      "8  16.2   \n",
      "3  9.0    \n",
      "1  4.0    \n",
      "5  4.0    \n",
      "4  3.0    \n"
     ]
    }
   ],
   "source": [
    "hypothesis['RICE']=hypothesis['reach']*hypothesis['impact']*hypothesis['confidence']/hypothesis['efforts']\n",
    "\n",
    "print(hypothesis[['hypothesis','RICE']].sort_values(by='RICE', ascending=False))"
   ]
  },
  {
   "cell_type": "markdown",
   "id": "4eb7abed",
   "metadata": {},
   "source": [
    "Приоритизация гипотез при применении RICE вместо ICE изменилась, поскольку на RICE влияет параметр reach, который отражает охват пользователей."
   ]
  },
  {
   "cell_type": "markdown",
   "id": "4cbacdca",
   "metadata": {},
   "source": [
    "**Часть 2. Анализ A/B-теста**\n",
    "\n",
    "Строим график кумулятивной выручки по группам"
   ]
  },
  {
   "cell_type": "code",
   "execution_count": 21,
   "id": "c0c88086",
   "metadata": {},
   "outputs": [
    {
     "data": {
      "image/png": "[encoded data removed]",
      "text/plain": [
       "<Figure size 640x480 with 1 Axes>"
      ]
     },
     "metadata": {},
     "output_type": "display_data"
    }
   ],
   "source": [
    "datesGroups = orders[['date', 'group']].drop_duplicates()\n",
    "\n",
    "ordersAggregated = datesGroups.apply(\n",
    "    lambda x: orders[\n",
    "        np.logical_and(\n",
    "            orders['date'] <= x['date'], orders['group'] == x['group']\n",
    "        )\n",
    "    ].agg(\n",
    "        {\n",
    "            'date': 'max',\n",
    "            'group': 'max',\n",
    "            'transaction_id': 'nunique',\n",
    "            'visitor_id': 'nunique',\n",
    "            'revenue': 'sum',\n",
    "        }\n",
    "    ),\n",
    "    axis=1,\n",
    ").sort_values(by=['date', 'group'])\n",
    "\n",
    "visitorsAggregated = datesGroups.apply(\n",
    "    lambda x: visitors[\n",
    "        np.logical_and(\n",
    "            visitors['date'] <= x['date'], visitors['group'] == x['group']\n",
    "        )\n",
    "    ].agg({'date': 'max', 'group': 'max', 'visitors': 'sum'}),\n",
    "    axis=1,\n",
    ").sort_values(by=['date', 'group'])\n",
    "\n",
    "cumulativeData = ordersAggregated.merge(\n",
    "    visitorsAggregated, left_on=['date', 'group'], right_on=['date', 'group']\n",
    ")\n",
    "cumulativeData.columns = [\n",
    "    'date',\n",
    "    'group',\n",
    "    'orders',\n",
    "    'buyers',\n",
    "    'revenue',\n",
    "    'visitors',\n",
    "]\n",
    "\n",
    "# датафрейм с кумулятивным количеством заказов и кумулятивной выручкой по дням в группе А\n",
    "cumulativeRevenueA = cumulativeData[cumulativeData['group']=='A'][['date','revenue', 'orders']]\n",
    "\n",
    "# датафрейм с кумулятивным количеством заказов и кумулятивной выручкой по дням в группе B\n",
    "cumulativeRevenueB = cumulativeData[cumulativeData['group']=='B'][['date','revenue', 'orders']]\n",
    "\n",
    "# Строим график выручки группы А\n",
    "plt.plot(cumulativeRevenueA['date'], cumulativeRevenueA['revenue'], label='A')\n",
    "\n",
    "# Строим график выручки группы B\n",
    "plt.plot(cumulativeRevenueB['date'], cumulativeRevenueB['revenue'], label='B')\n",
    "\n",
    "plt.xticks(rotation=45)\n",
    "\n",
    "plt.ylabel('кумулятивная выручка')\n",
    "plt.legend()\n",
    "plt.title('кумулятивная выручка по дням и группам')\n",
    "plt.show()"
   ]
  },
  {
   "cell_type": "markdown",
   "id": "1045a261",
   "metadata": {},
   "source": [
    "Выручка почти равномерно увеличивается в течение всего теста. Однако график выручки группы В в одной точке резко подрастает. Это может сигнализировать о всплесках числа заказов, либо о появлении очень дорогих заказов в выборке."
   ]
  },
  {
   "cell_type": "markdown",
   "id": "c8a858fe",
   "metadata": {},
   "source": [
    "Построим график кумулятивного среднего чека по группам"
   ]
  },
  {
   "cell_type": "code",
   "execution_count": 22,
   "id": "4e087f06",
   "metadata": {},
   "outputs": [
    {
     "data": {
      "image/png": "[encoded data removed]",
      "text/plain": [
       "<Figure size 640x480 with 1 Axes>"
      ]
     },
     "metadata": {},
     "output_type": "display_data"
    }
   ],
   "source": [
    "plt.plot(cumulativeRevenueA['date'], cumulativeRevenueA['revenue']/cumulativeRevenueA['orders'], label='A')\n",
    "plt.plot(cumulativeRevenueB['date'], cumulativeRevenueB['revenue']/cumulativeRevenueB['orders'], label='B')\n",
    "\n",
    "plt.xticks(rotation=45)\n",
    "plt.ylabel('средний чек')\n",
    "plt.legend()\n",
    "plt.title('средний чек по дням и группам')\n",
    "plt.show()"
   ]
  },
  {
   "cell_type": "markdown",
   "id": "398ad6e3",
   "metadata": {},
   "source": [
    "Средний чек группы А резко подрастает в двух точках в первой половине теста, затем начинает стабилизироваться.\n",
    "Средний чек группы В резко подрастает в одной точке, во второй половине теста, затем начинает плавно снижаться к концу теста. Возможно, в группу А в первой половине теста, а в группу В во второй половине, попали крупные заказы."
   ]
  },
  {
   "cell_type": "markdown",
   "id": "efeabe82",
   "metadata": {},
   "source": [
    "Построим график относительного изменения кумулятивного среднего чека группы B к группе A. "
   ]
  },
  {
   "cell_type": "code",
   "execution_count": 23,
   "id": "8d97ef6b",
   "metadata": {},
   "outputs": [
    {
     "data": {
      "image/png": "[encoded data removed]",
      "text/plain": [
       "<Figure size 640x480 with 1 Axes>"
      ]
     },
     "metadata": {},
     "output_type": "display_data"
    }
   ],
   "source": [
    "# собираем данные в одном датафрейме\n",
    "mergedCumulativeRevenue = cumulativeRevenueA.merge(cumulativeRevenueB, left_on='date', right_on='date', how='left', suffixes=['A', 'B'])\n",
    "\n",
    "# cтроим отношение средних чеков\n",
    "plt.plot(mergedCumulativeRevenue['date'], (mergedCumulativeRevenue['revenueB']/mergedCumulativeRevenue['ordersB'])/(mergedCumulativeRevenue['revenueA']/mergedCumulativeRevenue['ordersA'])-1)\n",
    "\n",
    "# добавляем ось X\n",
    "plt.axhline(y=0, color='black', linestyle='--')\n",
    "\n",
    "plt.xticks(rotation=45)\n",
    "plt.title('относительное изменение кумулятивного среднего чека группы B к группе A')\n",
    "plt.show()"
   ]
  },
  {
   "cell_type": "markdown",
   "id": "0350978e",
   "metadata": {},
   "source": [
    "В нескольких точках график различия между сегментами резко скачет. Где-то есть крупные заказы и выбросы."
   ]
  },
  {
   "cell_type": "markdown",
   "id": "11ae7ba6",
   "metadata": {},
   "source": [
    "Построим график кумулятивного среднего количества заказов на посетителя по группам. "
   ]
  },
  {
   "cell_type": "code",
   "execution_count": 24,
   "id": "452c7d08",
   "metadata": {},
   "outputs": [
    {
     "data": {
      "image/png": "[encoded data removed]",
      "text/plain": [
       "<Figure size 640x480 with 1 Axes>"
      ]
     },
     "metadata": {},
     "output_type": "display_data"
    }
   ],
   "source": [
    "# считаем кумулятивную конверсию\n",
    "cumulativeData['conversion'] = cumulativeData['orders']/cumulativeData['visitors']\n",
    "\n",
    "# отделяем данные по группе A\n",
    "cumulativeDataA = cumulativeData[cumulativeData['group']=='A']\n",
    "\n",
    "# отделяем данные по группе B\n",
    "cumulativeDataB = cumulativeData[cumulativeData['group']=='B']\n",
    "\n",
    "# строим графики\n",
    "plt.plot(cumulativeDataA['date'], cumulativeDataA['conversion'], label='A')\n",
    "plt.plot(cumulativeDataB['date'], cumulativeDataB['conversion'], label='B')\n",
    "\n",
    "plt.axis(['2019-08-01', '2019-08-31', 0.01, 0.06])\n",
    "plt.legend()\n",
    "\n",
    "plt.xticks(rotation=45)\n",
    "plt.title('кумулятивное среднее количество заказов на посетителя по группам')\n",
    "plt.show()"
   ]
  },
  {
   "cell_type": "markdown",
   "id": "89725ea0",
   "metadata": {},
   "source": [
    "Сначала группы колебались около одного значения, но затем конверсия группы A просела и зафиксировалась, а конверсия группы B выросла и также зафиксировалась."
   ]
  },
  {
   "cell_type": "markdown",
   "id": "fc2c17b8",
   "metadata": {},
   "source": [
    "Построим график относительного изменения кумулятивного среднего количества заказов на посетителя группы B к группе A."
   ]
  },
  {
   "cell_type": "code",
   "execution_count": 25,
   "id": "f4a5e8ed",
   "metadata": {},
   "outputs": [
    {
     "data": {
      "image/png": "[encoded data removed]",
      "text/plain": [
       "<Figure size 640x480 with 1 Axes>"
      ]
     },
     "metadata": {},
     "output_type": "display_data"
    }
   ],
   "source": [
    "mergedCumulativeConversions = cumulativeDataA[['date','conversion']].merge(cumulativeDataB[['date','conversion']], left_on='date', right_on='date', how='left', suffixes=['A', 'B'])\n",
    "\n",
    "plt.plot(mergedCumulativeConversions['date'], mergedCumulativeConversions['conversionB']/mergedCumulativeConversions['conversionA']-1, label=\"Относительный прирост конверсии группы B относительно группы A\")\n",
    "#plt.legend()\n",
    "\n",
    "plt.axhline(y=0, color='black', linestyle='--')\n",
    "plt.axhline(y=-0.1, color='grey', linestyle='--')\n",
    "\n",
    "plt.axis(['2019-08-01', '2019-08-31', -0.2, 0.4])\n",
    "\n",
    "plt.xticks(rotation=45)\n",
    "plt.title('относительное изменение кумулятивного среднего количества заказов на посетителя группы B к группе A')\n",
    "plt.show()"
   ]
  },
  {
   "cell_type": "markdown",
   "id": "60e40d31",
   "metadata": {},
   "source": [
    "В начале теста группа B проигрывала группе A, затем вырвалась вперёд и теперь значительно выше"
   ]
  },
  {
   "cell_type": "markdown",
   "id": "8ee2cec9",
   "metadata": {},
   "source": [
    "Построим точечный график количества заказов по пользователям."
   ]
  },
  {
   "cell_type": "code",
   "execution_count": 26,
   "id": "db0e0a46",
   "metadata": {},
   "outputs": [
    {
     "data": {
      "image/png": "[encoded data removed]",
      "text/plain": [
       "<Figure size 640x480 with 1 Axes>"
      ]
     },
     "metadata": {},
     "output_type": "display_data"
    }
   ],
   "source": [
    "ordersByUsers = (\n",
    "    orders.groupby('visitor_id', as_index=False)\n",
    "    .agg({'transaction_id': 'nunique'})\n",
    ")\n",
    "ordersByUsers.columns = ['user_id', 'orders']\n",
    "\n",
    "x_values = pd.Series(range(0, len(ordersByUsers)))\n",
    "\n",
    "plt.scatter(x_values, ordersByUsers['orders'], alpha =0.5)\n",
    "\n",
    "plt.title('количество заказов по пользователям')\n",
    "plt.ylim([0, 5])\n",
    "plt.show()"
   ]
  },
  {
   "cell_type": "markdown",
   "id": "6687a0dc",
   "metadata": {},
   "source": [
    "посчитаем 95 и 99 перцентили"
   ]
  },
  {
   "cell_type": "code",
   "execution_count": 27,
   "id": "07b7853d",
   "metadata": {},
   "outputs": [
    {
     "data": {
      "text/plain": [
       "array([1., 2.])"
      ]
     },
     "execution_count": 27,
     "metadata": {},
     "output_type": "execute_result"
    }
   ],
   "source": [
    "np.percentile(ordersByUsers['orders'], [95, 99])"
   ]
  },
  {
   "cell_type": "markdown",
   "id": "55d59828",
   "metadata": {},
   "source": [
    "не более 5% совершали более 1 заказа, не более 1% совершали более двух заказов, установим верхнюю границу в 2 заказа"
   ]
  },
  {
   "cell_type": "markdown",
   "id": "11931ca4",
   "metadata": {},
   "source": [
    "Построим точечный график стоимостей заказов"
   ]
  },
  {
   "cell_type": "code",
   "execution_count": 28,
   "id": "76702560",
   "metadata": {},
   "outputs": [
    {
     "data": {
      "image/png": "[encoded data removed]",
      "text/plain": [
       "<Figure size 640x480 with 1 Axes>"
      ]
     },
     "metadata": {},
     "output_type": "display_data"
    }
   ],
   "source": [
    "x_values = pd.Series(range(0,len(orders['revenue'])))\n",
    "plt.scatter(x_values, orders['revenue'])\n",
    "plt.title('стоимость заказов')\n",
    "plt.show()"
   ]
  },
  {
   "cell_type": "markdown",
   "id": "0fefe567",
   "metadata": {},
   "source": [
    "На точечном графике видны выбросы: один заказ на ~1.3 млн, а также один заказ более 200 тыс."
   ]
  },
  {
   "cell_type": "code",
   "execution_count": 29,
   "id": "3245d533",
   "metadata": {},
   "outputs": [
    {
     "data": {
      "image/png": "[encoded data removed]",
      "text/plain": [
       "<Figure size 640x480 with 1 Axes>"
      ]
     },
     "metadata": {},
     "output_type": "display_data"
    }
   ],
   "source": [
    "x_values = pd.Series(range(0,len(orders['revenue'])))\n",
    "plt.scatter(x_values, orders['revenue'], alpha=0.5)\n",
    "plt.title('стоимость заказов')\n",
    "plt.ylim([0, 100000])\n",
    "plt.show()"
   ]
  },
  {
   "cell_type": "markdown",
   "id": "b06b335d",
   "metadata": {},
   "source": [
    "Посчитаем 95-й и 99-й перцентили стоимости заказов. Выберем границу для определения аномальных заказов"
   ]
  },
  {
   "cell_type": "code",
   "execution_count": 30,
   "id": "597728cf",
   "metadata": {},
   "outputs": [
    {
     "name": "stdout",
     "output_type": "stream",
     "text": [
      "[26785. 53904.]\n"
     ]
    }
   ],
   "source": [
    "print(np.percentile(orders['revenue'], [95, 99]))"
   ]
  },
  {
   "cell_type": "markdown",
   "id": "e6204c58",
   "metadata": {},
   "source": [
    "Не более 5% заказов дороже 26 785 и не более 1% дороже 53904, установим верхнюю границу в 26785"
   ]
  },
  {
   "cell_type": "markdown",
   "id": "e8cb0b05",
   "metadata": {},
   "source": [
    "Посчитаем статистическую значимость различий в среднем количестве заказов на посетителя между группами по «сырым» данным. Предварительно соберем необходимые данные в переменную data:"
   ]
  },
  {
   "cell_type": "code",
   "execution_count": 31,
   "id": "e506b176",
   "metadata": {},
   "outputs": [
    {
     "name": "stdout",
     "output_type": "stream",
     "text": [
      "        date  ordersPerDateA  revenuePerDateA  ordersPerDateB  \\\n",
      "0 2019-08-01  19              142779           17               \n",
      "1 2019-08-02  18              91602            22               \n",
      "2 2019-08-03  24              112473           14               \n",
      "3 2019-08-04  11              41176            13               \n",
      "4 2019-08-05  22              86383            21               \n",
      "\n",
      "   revenuePerDateB  ordersCummulativeA  revenueCummulativeA  \\\n",
      "0  59758            19                  142779                \n",
      "1  162043           37                  234381                \n",
      "2  67049            61                  346854                \n",
      "3  96890            72                  388030                \n",
      "4  89908            94                  474413                \n",
      "\n",
      "   ordersCummulativeB  revenueCummulativeB  visitorsPerDateA  \\\n",
      "0  17                  59758                719                \n",
      "1  39                  221801               619                \n",
      "2  53                  288850               507                \n",
      "3  66                  385740               717                \n",
      "4  87                  475648               756                \n",
      "\n",
      "   visitorsPerDateB  visitorsCummulativeA  visitorsCummulativeB  \n",
      "0  713               719                   713                   \n",
      "1  581               1338                  1294                  \n",
      "2  509               1845                  1803                  \n",
      "3  770               2562                  2573                  \n",
      "4  707               3318                  3280                  \n"
     ]
    }
   ],
   "source": [
    "visitorsADaily = visitors[visitors['group'] == 'A'][['date', 'visitors']]\n",
    "visitorsADaily.columns = ['date', 'visitorsPerDateA']\n",
    "\n",
    "visitorsACummulative = visitorsADaily.apply(\n",
    "    lambda x: visitorsADaily[visitorsADaily['date'] <= x['date']].agg(\n",
    "        {'date': 'max', 'visitorsPerDateA': 'sum'}\n",
    "    ),\n",
    "    axis=1,\n",
    ")\n",
    "visitorsACummulative.columns = ['date', 'visitorsCummulativeA']\n",
    "\n",
    "visitorsBDaily = visitors[visitors['group'] == 'B'][['date', 'visitors']]\n",
    "visitorsBDaily.columns = ['date', 'visitorsPerDateB']\n",
    "\n",
    "visitorsBCummulative = visitorsBDaily.apply(\n",
    "    lambda x: visitorsBDaily[visitorsBDaily['date'] <= x['date']].agg(\n",
    "        {'date': 'max', 'visitorsPerDateB': 'sum'}\n",
    "    ),\n",
    "    axis=1,\n",
    ")\n",
    "visitorsBCummulative.columns = ['date', 'visitorsCummulativeB']\n",
    "\n",
    "ordersADaily = (\n",
    "    orders[orders['group'] == 'A'][['date', 'transaction_id', 'visitor_id', 'revenue']]\n",
    "    .groupby('date', as_index=False)\n",
    "    .agg({'visitor_id': pd.Series.nunique, 'revenue': 'sum'})\n",
    ")\n",
    "ordersADaily.columns = ['date', 'ordersPerDateA', 'revenuePerDateA']\n",
    "\n",
    "ordersACummulative = ordersADaily.apply(\n",
    "    lambda x: ordersADaily[ordersADaily['date'] <= x['date']].agg(\n",
    "        {'date': 'max', 'ordersPerDateA': 'sum', 'revenuePerDateA': 'sum'}\n",
    "    ),\n",
    "    axis=1,\n",
    ").sort_values(by=['date'])\n",
    "ordersACummulative.columns = [\n",
    "    'date',\n",
    "    'ordersCummulativeA',\n",
    "    'revenueCummulativeA',\n",
    "]\n",
    "\n",
    "ordersBDaily = (\n",
    "    orders[orders['group'] == 'B'][['date', 'transaction_id', 'visitor_id', 'revenue']]\n",
    "    .groupby('date', as_index=False)\n",
    "    .agg({'visitor_id': pd.Series.nunique, 'revenue': 'sum'})\n",
    ")\n",
    "ordersBDaily.columns = ['date', 'ordersPerDateB', 'revenuePerDateB']\n",
    "\n",
    "ordersBCummulative = ordersBDaily.apply(\n",
    "    lambda x: ordersBDaily[ordersBDaily['date'] <= x['date']].agg(\n",
    "        {'date': 'max', 'ordersPerDateB': 'sum', 'revenuePerDateB': 'sum'}\n",
    "    ),\n",
    "    axis=1,\n",
    ").sort_values(by=['date'])\n",
    "ordersBCummulative.columns = [\n",
    "    'date',\n",
    "    'ordersCummulativeB',\n",
    "    'revenueCummulativeB',\n",
    "]\n",
    "\n",
    "data = (\n",
    "    ordersADaily.merge(\n",
    "        ordersBDaily, left_on='date', right_on='date', how='left'\n",
    "    )\n",
    "    .merge(ordersACummulative, left_on='date', right_on='date', how='left')\n",
    "    .merge(ordersBCummulative, left_on='date', right_on='date', how='left')\n",
    "    .merge(visitorsADaily, left_on='date', right_on='date', how='left')\n",
    "    .merge(visitorsBDaily, left_on='date', right_on='date', how='left')\n",
    "    .merge(visitorsACummulative, left_on='date', right_on='date', how='left')\n",
    "    .merge(visitorsBCummulative, left_on='date', right_on='date', how='left')\n",
    ")\n",
    "\n",
    "print(data.head(5))"
   ]
  },
  {
   "cell_type": "markdown",
   "id": "ce7cd9fb",
   "metadata": {},
   "source": [
    "сормулируем гипотезы:\n",
    "    \n",
    "Н0: различий в среднем количестве заказов между группами нет\n",
    "\n",
    "Н1: различия в среднем количестве заказов между группами есть\n",
    "\n",
    "и\n",
    "    \n",
    "Н0: различий в среднем чеке между группами нет \n",
    "\n",
    "Н1: различия в среднем чеке между группами есть\n",
    "\n",
    "Применим статистический критерий Манна-Уитни к полученным выборкам.\n",
    "Зададим уровень статистической значимости 0.05"
   ]
  },
  {
   "cell_type": "code",
   "execution_count": 32,
   "id": "1ca1a3b3",
   "metadata": {},
   "outputs": [
    {
     "name": "stdout",
     "output_type": "stream",
     "text": [
      "p-value: 0.011\n",
      "различие в количестве заказов: 0.160\n"
     ]
    }
   ],
   "source": [
    "ordersByUsersA = (\n",
    "    orders[orders['group'] == 'A']\n",
    "    .groupby('visitor_id', as_index=False)\n",
    "    .agg({'transaction_id': pd.Series.nunique}) #'transaction_id', 'visitor_id'\n",
    ")\n",
    "ordersByUsersA.columns = ['userId', 'orders']\n",
    "\n",
    "ordersByUsersB = (\n",
    "    orders[orders['group'] == 'B']\n",
    "    .groupby('visitor_id', as_index=False)\n",
    "    .agg({'transaction_id': pd.Series.nunique})\n",
    ")\n",
    "ordersByUsersB.columns = ['userId', 'orders']\n",
    "\n",
    "sampleA = pd.concat(\n",
    "    [\n",
    "        ordersByUsersA['orders'],\n",
    "        pd.Series(\n",
    "            0,\n",
    "            index=np.arange(\n",
    "                data['visitorsPerDateA'].sum() - len(ordersByUsersA['orders'])\n",
    "            ),\n",
    "            name='orders',\n",
    "        ),\n",
    "    ],\n",
    "    axis=0,\n",
    ")\n",
    "\n",
    "sampleB = pd.concat(\n",
    "    [\n",
    "        ordersByUsersB['orders'],\n",
    "        pd.Series(\n",
    "            0,\n",
    "            index=np.arange(\n",
    "                data['visitorsPerDateB'].sum() - len(ordersByUsersB['orders'])\n",
    "            ),\n",
    "            name='orders',\n",
    "        ),\n",
    "    ],\n",
    "    axis=0,\n",
    ")\n",
    "\n",
    "print('p-value:', \"{0:.3f}\".format(stats.mannwhitneyu(sampleA, sampleB)[1]))\n",
    "\n",
    "print('различие в количестве заказов:', \"{0:.3f}\".format(sampleB.mean() / sampleA.mean() - 1))"
   ]
  },
  {
   "cell_type": "markdown",
   "id": "3d65bf62",
   "metadata": {},
   "source": [
    "p-value = 0.011. Значит отвергаем нулевую гипотезу о том, что нет различия в среднем числе заказов между группами. В группе B на 16% больше заказов."
   ]
  },
  {
   "cell_type": "markdown",
   "id": "60afdddb",
   "metadata": {},
   "source": [
    "Посчитаем статистическую значимость различий в среднем чеке заказа между группами по «сырым» данным"
   ]
  },
  {
   "cell_type": "code",
   "execution_count": 33,
   "id": "46eaf513",
   "metadata": {},
   "outputs": [
    {
     "name": "stdout",
     "output_type": "stream",
     "text": [
      "p-value: 0.829\n",
      "различие в среднем чеке: 0.287\n"
     ]
    }
   ],
   "source": [
    "print('p-value:', '{0:.3f}'.format(stats.mannwhitneyu(orders[orders['group']=='A']['revenue'], orders[orders['group']=='B']['revenue'])[1]))\n",
    "print('различие в среднем чеке:', '{0:.3f}'.format(orders[orders['group']=='B']['revenue'].mean()/orders[orders['group']=='A']['revenue'].mean()-1))"
   ]
  },
  {
   "cell_type": "markdown",
   "id": "d99df911",
   "metadata": {},
   "source": [
    "p-value значительно больше 0.05. Значит, не отвергаем гипотезу о том, что в среднем чеке нет различий. Средний чек группы B на 28.7% выше среднего чека группы A."
   ]
  },
  {
   "cell_type": "markdown",
   "id": "a9adeb80",
   "metadata": {},
   "source": [
    "Посчитаем количество аномальных пользователей"
   ]
  },
  {
   "cell_type": "code",
   "execution_count": 34,
   "id": "7aef3a07",
   "metadata": {},
   "outputs": [
    {
     "name": "stdout",
     "output_type": "stream",
     "text": [
      "568     113298937\n",
      "1099    148427295\n",
      "928     204675465\n",
      "33      249864742\n",
      "684     358944393\n",
      "dtype: int64\n",
      "58\n"
     ]
    }
   ],
   "source": [
    "usersWithManyOrders = pd.concat(\n",
    "    [\n",
    "        ordersByUsersA[ordersByUsersA['orders'] > 2]['userId'],\n",
    "        ordersByUsersB[ordersByUsersB['orders'] > 2]['userId'],\n",
    "    ],\n",
    "    axis=0,\n",
    ")\n",
    "\n",
    "usersWithExpensiveOrders = orders[orders['revenue'] > int(np.percentile(orders['revenue'], [95]))]['visitor_id']\n",
    "\n",
    "abnormalUsers = (\n",
    "    pd.concat([usersWithManyOrders, usersWithExpensiveOrders], axis=0)\n",
    "    .drop_duplicates()\n",
    "    .sort_values()\n",
    ")\n",
    "\n",
    "print(abnormalUsers.head(5))\n",
    "print(abnormalUsers.shape[0])"
   ]
  },
  {
   "cell_type": "markdown",
   "id": "35104da1",
   "metadata": {},
   "source": [
    "Всего 58 аномальных пользователей. \n",
    "Узнаем, как их действия повлияли на результаты теста.\n",
    "Посчитаем статистическую значимость различий в среднем количестве заказов на посетителя между группами по «очищенным» данным"
   ]
  },
  {
   "cell_type": "code",
   "execution_count": 35,
   "id": "e119869c",
   "metadata": {},
   "outputs": [
    {
     "name": "stdout",
     "output_type": "stream",
     "text": [
      "p-value: 0.012\n",
      "различие в количестве заказов 0.182\n"
     ]
    }
   ],
   "source": [
    "sampleAFiltered = pd.concat(\n",
    "    [\n",
    "        ordersByUsersA[\n",
    "            np.logical_not(ordersByUsersA['userId'].isin(abnormalUsers))\n",
    "        ]['orders'],\n",
    "        pd.Series(\n",
    "            0,\n",
    "            index=np.arange(\n",
    "                data['visitorsPerDateA'].sum() - len(ordersByUsersA['orders'])\n",
    "            ),\n",
    "            name='orders',\n",
    "        ),\n",
    "    ],\n",
    "    axis=0,\n",
    ")\n",
    "\n",
    "sampleBFiltered = pd.concat(\n",
    "    [\n",
    "        ordersByUsersB[\n",
    "            np.logical_not(ordersByUsersB['userId'].isin(abnormalUsers))\n",
    "        ]['orders'],\n",
    "        pd.Series(\n",
    "            0,\n",
    "            index=np.arange(\n",
    "                data['visitorsPerDateB'].sum() - len(ordersByUsersB['orders'])\n",
    "            ),\n",
    "            name='orders',\n",
    "        ),\n",
    "    ],\n",
    "    axis=0,\n",
    ")\n",
    "\n",
    "print('p-value:', '{0:.3f}'.format(stats.mannwhitneyu(sampleAFiltered, sampleBFiltered)[1]))\n",
    "print('различие в количестве заказов', '{0:.3f}'.format(sampleBFiltered.mean()/sampleAFiltered.mean()-1))"
   ]
  },
  {
   "cell_type": "markdown",
   "id": "fe7d64d3",
   "metadata": {},
   "source": [
    "p-value = 0.012. Значит отвергаем нулевую гипотезу о том, что нет различия в среднем числе заказов между группами.  После фильтрации в группе B на 18.2% больше заказов."
   ]
  },
  {
   "cell_type": "markdown",
   "id": "e53928a7",
   "metadata": {},
   "source": [
    "Посчитаем статистическую значимость различий в среднем чеке заказа между группами по «очищенным» данным "
   ]
  },
  {
   "cell_type": "code",
   "execution_count": 36,
   "id": "fdd22e38",
   "metadata": {},
   "outputs": [
    {
     "name": "stdout",
     "output_type": "stream",
     "text": [
      "p-value: 0.646\n",
      "различие в среднем чеке: -0.048\n"
     ]
    }
   ],
   "source": [
    "print('p-value:',\n",
    "    '{0:.3f}'.format(\n",
    "        stats.mannwhitneyu(\n",
    "            orders[\n",
    "                np.logical_and(\n",
    "                    orders['group'] == 'A',\n",
    "                    np.logical_not(orders['visitor_id'].isin(abnormalUsers)),\n",
    "                )\n",
    "            ]['revenue'],\n",
    "            orders[\n",
    "                np.logical_and(\n",
    "                    orders['group'] == 'B',\n",
    "                    np.logical_not(orders['visitor_id'].isin(abnormalUsers)),\n",
    "                )\n",
    "            ]['revenue'],\n",
    "        )[1]\n",
    "    )\n",
    ")\n",
    "\n",
    "print('различие в среднем чеке:', \n",
    "    \"{0:.3f}\".format(\n",
    "        orders[\n",
    "            np.logical_and(\n",
    "                orders['group'] == 'B',\n",
    "                np.logical_not(orders['visitor_id'].isin(abnormalUsers)),\n",
    "            )\n",
    "        ]['revenue'].mean()\n",
    "        / orders[\n",
    "            np.logical_and(\n",
    "                orders['group'] == 'A',\n",
    "                np.logical_not(orders['visitor_id'].isin(abnormalUsers)),\n",
    "            )\n",
    "        ]['revenue'].mean()\n",
    "        - 1\n",
    "    )\n",
    ")"
   ]
  },
  {
   "cell_type": "markdown",
   "id": "439026d0",
   "metadata": {},
   "source": [
    "p-value по-прежнему значительно больше 0.05. Значит, не отвергаем гипотезу о том, что в среднем чеке нет различий. После фильтрации средний чек группы B на 4.8% ниже среднего чека группы A."
   ]
  },
  {
   "cell_type": "markdown",
   "id": "50017347",
   "metadata": {},
   "source": [
    "**Выводы:**\n",
    "\n",
    "- В ходе работы были обработаны исхоные данные, выполнена проверка на наличие пропусков и дубликатов;\n",
    "- Из анализа удалены пользователи, попавшие в обе группы;\n",
    "- Установлено, что наиболее приоритетными по параметру RICE являются гипотезы 7 и 2:\n",
    "\n",
    "(7) Добавить форму подписки на все основные страницы, чтобы собрать базу клиентов для email-рассылок\n",
    "\n",
    "(2)  Добавить блоки рекомендаций товаров на сайт интернет магазина, чтобы повысить конверсию и средний чек заказа\n",
    "\n",
    "- Получены графики изменения количества заказов и выручки по группам. Найдены аномальные значения стоимости и количества заказов. Установлены границы аномальных значений стоимости и количества заказов.\n",
    "\n",
    "- Гипотеза о том, что нет различия в среднем числе заказов между группами отвергнута;\n",
    "\n",
    "- По очищенным данным в сегменте B на 18.2% больше заказов;\n",
    "\n",
    "- Не получилось отвергнуть гипотезу о том, что в среднем чеке нет различий;\n",
    " \n",
    "- После выброса аномальных значений средний чек в группе В на 4.8% меньше чем в А;\n",
    "\n",
    "\n",
    "Исходя из обнаруженных фактов, следует остановить тест и зафиксировать победу группы В, так как, несмотря на чуть меньшее значение среднего чека, количесвто заказов в группе В существенно выросло."
   ]
  }
 ],
 "metadata": {
  "ExecuteTimeLog": [
   {
    "duration": 1107,
    "start_time": "2023-03-24T11:53:47.686Z"
   },
   {
    "duration": 321,
    "start_time": "2023-03-24T11:53:48.795Z"
   },
   {
    "duration": 31,
    "start_time": "2023-03-24T11:53:49.119Z"
   },
   {
    "duration": 3,
    "start_time": "2023-03-24T11:53:49.152Z"
   },
   {
    "duration": 4,
    "start_time": "2023-03-24T11:53:49.158Z"
   },
   {
    "duration": 25,
    "start_time": "2023-03-24T11:53:49.163Z"
   },
   {
    "duration": 9,
    "start_time": "2023-03-24T11:53:49.189Z"
   },
   {
    "duration": 10,
    "start_time": "2023-03-24T11:53:49.200Z"
   },
   {
    "duration": 10,
    "start_time": "2023-03-24T11:53:49.212Z"
   },
   {
    "duration": 8,
    "start_time": "2023-03-24T11:53:49.224Z"
   },
   {
    "duration": 33,
    "start_time": "2023-03-24T11:53:49.236Z"
   },
   {
    "duration": 4,
    "start_time": "2023-03-24T11:53:49.271Z"
   },
   {
    "duration": 5,
    "start_time": "2023-03-24T11:53:49.277Z"
   },
   {
    "duration": 10,
    "start_time": "2023-03-24T11:53:49.286Z"
   },
   {
    "duration": 13,
    "start_time": "2023-03-24T11:53:49.298Z"
   },
   {
    "duration": 11,
    "start_time": "2023-03-24T11:53:49.313Z"
   },
   {
    "duration": 496,
    "start_time": "2023-03-24T11:53:49.326Z"
   },
   {
    "duration": 225,
    "start_time": "2023-03-24T11:53:49.824Z"
   },
   {
    "duration": 288,
    "start_time": "2023-03-24T11:53:50.050Z"
   },
   {
    "duration": 178,
    "start_time": "2023-03-24T11:53:50.339Z"
   },
   {
    "duration": 357,
    "start_time": "2023-03-24T11:53:50.519Z"
   },
   {
    "duration": 119,
    "start_time": "2023-03-24T11:53:50.878Z"
   },
   {
    "duration": 5,
    "start_time": "2023-03-24T11:53:50.998Z"
   },
   {
    "duration": 143,
    "start_time": "2023-03-24T11:53:51.004Z"
   },
   {
    "duration": 6,
    "start_time": "2023-03-24T11:53:51.149Z"
   },
   {
    "duration": 216,
    "start_time": "2023-03-24T11:53:51.157Z"
   },
   {
    "duration": 181,
    "start_time": "2023-03-24T11:53:51.375Z"
   },
   {
    "duration": 16,
    "start_time": "2023-03-24T11:53:51.559Z"
   },
   {
    "duration": 10,
    "start_time": "2023-03-24T11:53:51.577Z"
   },
   {
    "duration": 36,
    "start_time": "2023-03-24T11:53:51.589Z"
   },
   {
    "duration": 47,
    "start_time": "2023-03-24T11:53:51.627Z"
   },
   {
    "duration": 1073,
    "start_time": "2023-03-24T12:11:37.839Z"
   },
   {
    "duration": 209,
    "start_time": "2023-03-24T12:11:38.914Z"
   },
   {
    "duration": 29,
    "start_time": "2023-03-24T12:11:39.126Z"
   },
   {
    "duration": 4,
    "start_time": "2023-03-24T12:11:39.157Z"
   },
   {
    "duration": 4,
    "start_time": "2023-03-24T12:11:39.162Z"
   },
   {
    "duration": 20,
    "start_time": "2023-03-24T12:11:39.168Z"
   },
   {
    "duration": 7,
    "start_time": "2023-03-24T12:11:39.190Z"
   },
   {
    "duration": 9,
    "start_time": "2023-03-24T12:11:39.198Z"
   },
   {
    "duration": 6,
    "start_time": "2023-03-24T12:11:39.209Z"
   },
   {
    "duration": 4,
    "start_time": "2023-03-24T12:11:39.219Z"
   },
   {
    "duration": 46,
    "start_time": "2023-03-24T12:11:39.225Z"
   },
   {
    "duration": 5,
    "start_time": "2023-03-24T12:11:39.274Z"
   },
   {
    "duration": 6,
    "start_time": "2023-03-24T12:11:39.281Z"
   },
   {
    "duration": 10,
    "start_time": "2023-03-24T12:11:39.288Z"
   },
   {
    "duration": 11,
    "start_time": "2023-03-24T12:11:39.300Z"
   },
   {
    "duration": 10,
    "start_time": "2023-03-24T12:11:39.314Z"
   },
   {
    "duration": 487,
    "start_time": "2023-03-24T12:11:39.325Z"
   },
   {
    "duration": 191,
    "start_time": "2023-03-24T12:11:39.814Z"
   },
   {
    "duration": 328,
    "start_time": "2023-03-24T12:11:40.007Z"
   },
   {
    "duration": 208,
    "start_time": "2023-03-24T12:11:40.337Z"
   },
   {
    "duration": 326,
    "start_time": "2023-03-24T12:11:40.546Z"
   },
   {
    "duration": 142,
    "start_time": "2023-03-24T12:11:40.874Z"
   },
   {
    "duration": 4,
    "start_time": "2023-03-24T12:11:41.018Z"
   },
   {
    "duration": 134,
    "start_time": "2023-03-24T12:11:41.023Z"
   },
   {
    "duration": 13,
    "start_time": "2023-03-24T12:11:41.158Z"
   },
   {
    "duration": 222,
    "start_time": "2023-03-24T12:11:41.173Z"
   },
   {
    "duration": 161,
    "start_time": "2023-03-24T12:11:41.396Z"
   },
   {
    "duration": 13,
    "start_time": "2023-03-24T12:11:41.568Z"
   },
   {
    "duration": 21,
    "start_time": "2023-03-24T12:11:41.583Z"
   },
   {
    "duration": 24,
    "start_time": "2023-03-24T12:11:41.605Z"
   },
   {
    "duration": 19,
    "start_time": "2023-03-24T12:11:41.631Z"
   },
   {
    "duration": 54,
    "start_time": "2023-03-24T13:06:55.459Z"
   },
   {
    "duration": 1472,
    "start_time": "2023-03-24T13:09:54.228Z"
   },
   {
    "duration": 377,
    "start_time": "2023-03-24T13:09:55.702Z"
   },
   {
    "duration": 33,
    "start_time": "2023-03-24T13:09:56.081Z"
   },
   {
    "duration": 4,
    "start_time": "2023-03-24T13:09:56.116Z"
   },
   {
    "duration": 29,
    "start_time": "2023-03-24T13:09:56.123Z"
   },
   {
    "duration": 60,
    "start_time": "2023-03-24T13:09:56.154Z"
   },
   {
    "duration": 10,
    "start_time": "2023-03-24T13:09:56.216Z"
   },
   {
    "duration": 47,
    "start_time": "2023-03-24T13:09:56.228Z"
   },
   {
    "duration": 8,
    "start_time": "2023-03-24T13:09:56.278Z"
   },
   {
    "duration": 772,
    "start_time": "2023-03-24T13:09:56.288Z"
   },
   {
    "duration": 0,
    "start_time": "2023-03-24T13:09:57.063Z"
   },
   {
    "duration": 0,
    "start_time": "2023-03-24T13:09:57.070Z"
   },
   {
    "duration": 0,
    "start_time": "2023-03-24T13:09:57.071Z"
   },
   {
    "duration": 0,
    "start_time": "2023-03-24T13:09:57.071Z"
   },
   {
    "duration": 0,
    "start_time": "2023-03-24T13:09:57.076Z"
   },
   {
    "duration": 0,
    "start_time": "2023-03-24T13:09:57.076Z"
   },
   {
    "duration": 0,
    "start_time": "2023-03-24T13:09:57.077Z"
   },
   {
    "duration": 1,
    "start_time": "2023-03-24T13:09:57.080Z"
   },
   {
    "duration": 0,
    "start_time": "2023-03-24T13:09:57.083Z"
   },
   {
    "duration": 0,
    "start_time": "2023-03-24T13:09:57.085Z"
   },
   {
    "duration": 0,
    "start_time": "2023-03-24T13:09:57.087Z"
   },
   {
    "duration": 0,
    "start_time": "2023-03-24T13:09:57.088Z"
   },
   {
    "duration": 0,
    "start_time": "2023-03-24T13:09:57.091Z"
   },
   {
    "duration": 0,
    "start_time": "2023-03-24T13:09:57.093Z"
   },
   {
    "duration": 0,
    "start_time": "2023-03-24T13:09:57.095Z"
   },
   {
    "duration": 0,
    "start_time": "2023-03-24T13:09:57.097Z"
   },
   {
    "duration": 0,
    "start_time": "2023-03-24T13:09:57.098Z"
   },
   {
    "duration": 0,
    "start_time": "2023-03-24T13:09:57.101Z"
   },
   {
    "duration": 0,
    "start_time": "2023-03-24T13:09:57.102Z"
   },
   {
    "duration": 0,
    "start_time": "2023-03-24T13:09:57.103Z"
   },
   {
    "duration": 0,
    "start_time": "2023-03-24T13:09:57.105Z"
   },
   {
    "duration": 478,
    "start_time": "2023-03-24T13:11:33.282Z"
   },
   {
    "duration": 24,
    "start_time": "2023-03-24T13:11:44.960Z"
   },
   {
    "duration": 5,
    "start_time": "2023-03-24T13:11:57.959Z"
   },
   {
    "duration": 481,
    "start_time": "2023-03-24T13:11:59.370Z"
   },
   {
    "duration": 8,
    "start_time": "2023-03-24T13:12:10.119Z"
   },
   {
    "duration": 5,
    "start_time": "2023-03-24T13:12:12.281Z"
   },
   {
    "duration": 6,
    "start_time": "2023-03-24T13:13:44.913Z"
   },
   {
    "duration": 12,
    "start_time": "2023-03-24T13:13:52.590Z"
   },
   {
    "duration": 13,
    "start_time": "2023-03-24T13:14:35.676Z"
   },
   {
    "duration": 17,
    "start_time": "2023-03-24T13:14:55.654Z"
   },
   {
    "duration": 17,
    "start_time": "2023-03-24T13:16:15.777Z"
   },
   {
    "duration": 14,
    "start_time": "2023-03-24T13:17:57.152Z"
   },
   {
    "duration": 9,
    "start_time": "2023-03-24T13:18:15.096Z"
   },
   {
    "duration": 10,
    "start_time": "2023-03-24T13:18:49.607Z"
   },
   {
    "duration": 4,
    "start_time": "2023-03-24T13:19:01.774Z"
   },
   {
    "duration": 4,
    "start_time": "2023-03-24T13:19:11.566Z"
   },
   {
    "duration": 1324,
    "start_time": "2023-03-24T13:20:15.180Z"
   },
   {
    "duration": 696,
    "start_time": "2023-03-24T13:20:16.510Z"
   },
   {
    "duration": 64,
    "start_time": "2023-03-24T13:20:17.208Z"
   },
   {
    "duration": 25,
    "start_time": "2023-03-24T13:20:17.280Z"
   },
   {
    "duration": 27,
    "start_time": "2023-03-24T13:20:17.307Z"
   },
   {
    "duration": 87,
    "start_time": "2023-03-24T13:20:17.340Z"
   },
   {
    "duration": 24,
    "start_time": "2023-03-24T13:20:17.430Z"
   },
   {
    "duration": 46,
    "start_time": "2023-03-24T13:20:17.456Z"
   },
   {
    "duration": 22,
    "start_time": "2023-03-24T13:20:17.505Z"
   },
   {
    "duration": 126,
    "start_time": "2023-03-24T13:20:17.530Z"
   },
   {
    "duration": 41,
    "start_time": "2023-03-24T13:20:17.658Z"
   },
   {
    "duration": 28,
    "start_time": "2023-03-24T13:20:17.701Z"
   },
   {
    "duration": 61,
    "start_time": "2023-03-24T13:20:17.731Z"
   },
   {
    "duration": 22,
    "start_time": "2023-03-24T13:20:17.796Z"
   },
   {
    "duration": 11,
    "start_time": "2023-03-24T13:20:17.820Z"
   },
   {
    "duration": 75,
    "start_time": "2023-03-24T13:20:17.833Z"
   },
   {
    "duration": 10,
    "start_time": "2023-03-24T13:20:17.911Z"
   },
   {
    "duration": 840,
    "start_time": "2023-03-24T13:20:17.924Z"
   },
   {
    "duration": 215,
    "start_time": "2023-03-24T13:20:18.771Z"
   },
   {
    "duration": 372,
    "start_time": "2023-03-24T13:20:18.988Z"
   },
   {
    "duration": 154,
    "start_time": "2023-03-24T13:20:19.375Z"
   },
   {
    "duration": 246,
    "start_time": "2023-03-24T13:20:19.530Z"
   },
   {
    "duration": 150,
    "start_time": "2023-03-24T13:20:19.778Z"
   },
   {
    "duration": 8,
    "start_time": "2023-03-24T13:20:19.934Z"
   },
   {
    "duration": 243,
    "start_time": "2023-03-24T13:20:19.950Z"
   },
   {
    "duration": 5,
    "start_time": "2023-03-24T13:20:20.196Z"
   },
   {
    "duration": 352,
    "start_time": "2023-03-24T13:20:20.203Z"
   },
   {
    "duration": 246,
    "start_time": "2023-03-24T13:20:20.557Z"
   },
   {
    "duration": 14,
    "start_time": "2023-03-24T13:20:20.805Z"
   },
   {
    "duration": 37,
    "start_time": "2023-03-24T13:20:20.821Z"
   },
   {
    "duration": 91,
    "start_time": "2023-03-24T13:20:20.860Z"
   },
   {
    "duration": 35,
    "start_time": "2023-03-24T13:20:20.953Z"
   },
   {
    "duration": 603,
    "start_time": "2023-03-24T13:22:15.499Z"
   },
   {
    "duration": 484,
    "start_time": "2023-03-24T13:22:31.349Z"
   },
   {
    "duration": 218,
    "start_time": "2023-03-24T13:22:53.155Z"
   },
   {
    "duration": 490,
    "start_time": "2023-03-24T13:23:02.486Z"
   },
   {
    "duration": 475,
    "start_time": "2023-03-24T13:23:12.609Z"
   },
   {
    "duration": 111,
    "start_time": "2023-03-24T13:25:58.962Z"
   },
   {
    "duration": 22,
    "start_time": "2023-03-24T13:26:07.148Z"
   },
   {
    "duration": 34,
    "start_time": "2023-03-24T13:26:52.055Z"
   },
   {
    "duration": 21,
    "start_time": "2023-03-24T13:31:20.760Z"
   },
   {
    "duration": 20,
    "start_time": "2023-03-24T13:33:02.654Z"
   },
   {
    "duration": 20,
    "start_time": "2023-03-24T13:33:42.581Z"
   },
   {
    "duration": 56,
    "start_time": "2023-03-24T13:35:54.132Z"
   },
   {
    "duration": 32,
    "start_time": "2023-03-24T13:36:26.195Z"
   },
   {
    "duration": 32,
    "start_time": "2023-03-24T13:37:52.591Z"
   },
   {
    "duration": 24,
    "start_time": "2023-03-24T13:38:31.099Z"
   },
   {
    "duration": 14,
    "start_time": "2023-03-24T13:38:58.561Z"
   },
   {
    "duration": 9,
    "start_time": "2023-03-24T13:39:10.486Z"
   },
   {
    "duration": 4,
    "start_time": "2023-03-24T13:39:40.125Z"
   },
   {
    "duration": 45,
    "start_time": "2023-03-24T13:39:53.153Z"
   },
   {
    "duration": 8,
    "start_time": "2023-03-24T13:40:13.794Z"
   },
   {
    "duration": 12,
    "start_time": "2023-03-24T13:47:39.170Z"
   },
   {
    "duration": 16,
    "start_time": "2023-03-24T13:48:04.927Z"
   },
   {
    "duration": 11,
    "start_time": "2023-03-24T13:48:25.503Z"
   },
   {
    "duration": 7,
    "start_time": "2023-03-24T13:49:21.871Z"
   },
   {
    "duration": 17,
    "start_time": "2023-03-24T13:49:37.250Z"
   },
   {
    "duration": 18,
    "start_time": "2023-03-24T13:50:09.426Z"
   },
   {
    "duration": 16,
    "start_time": "2023-03-24T13:50:13.369Z"
   },
   {
    "duration": 37,
    "start_time": "2023-03-24T13:50:31.417Z"
   },
   {
    "duration": 9,
    "start_time": "2023-03-24T13:50:45.006Z"
   },
   {
    "duration": 5,
    "start_time": "2023-03-24T13:51:59.358Z"
   },
   {
    "duration": 10,
    "start_time": "2023-03-24T13:52:06.919Z"
   },
   {
    "duration": 28,
    "start_time": "2023-03-24T13:52:20.065Z"
   },
   {
    "duration": 13,
    "start_time": "2023-03-24T13:52:31.580Z"
   },
   {
    "duration": 606,
    "start_time": "2023-03-24T13:54:07.600Z"
   },
   {
    "duration": 577,
    "start_time": "2023-03-24T13:54:11.628Z"
   },
   {
    "duration": 15,
    "start_time": "2023-03-24T13:54:32.993Z"
   },
   {
    "duration": 33,
    "start_time": "2023-03-24T13:55:34.502Z"
   },
   {
    "duration": 17,
    "start_time": "2023-03-24T13:55:38.485Z"
   },
   {
    "duration": 26,
    "start_time": "2023-03-24T13:57:01.461Z"
   },
   {
    "duration": 16,
    "start_time": "2023-03-24T13:57:11.790Z"
   },
   {
    "duration": 16,
    "start_time": "2023-03-24T13:57:36.797Z"
   },
   {
    "duration": 11,
    "start_time": "2023-03-24T13:57:48.215Z"
   },
   {
    "duration": 637,
    "start_time": "2023-03-24T13:58:08.707Z"
   },
   {
    "duration": 16,
    "start_time": "2023-03-24T13:58:14.515Z"
   },
   {
    "duration": 18,
    "start_time": "2023-03-24T13:58:41.022Z"
   },
   {
    "duration": 195,
    "start_time": "2023-03-24T14:00:31.575Z"
   },
   {
    "duration": 27,
    "start_time": "2023-03-24T14:01:43.811Z"
   },
   {
    "duration": 41,
    "start_time": "2023-03-24T14:02:46.868Z"
   },
   {
    "duration": 47,
    "start_time": "2023-03-24T14:03:05.279Z"
   },
   {
    "duration": 36,
    "start_time": "2023-03-24T14:03:48.655Z"
   },
   {
    "duration": 139,
    "start_time": "2023-03-24T14:05:01.107Z"
   },
   {
    "duration": 36,
    "start_time": "2023-03-24T14:05:25.024Z"
   },
   {
    "duration": 25,
    "start_time": "2023-03-24T14:06:23.889Z"
   },
   {
    "duration": 49,
    "start_time": "2023-03-24T17:01:23.380Z"
   },
   {
    "duration": 1283,
    "start_time": "2023-03-24T17:01:40.231Z"
   },
   {
    "duration": 446,
    "start_time": "2023-03-24T17:01:41.516Z"
   },
   {
    "duration": 31,
    "start_time": "2023-03-24T17:01:41.964Z"
   },
   {
    "duration": 3,
    "start_time": "2023-03-24T17:01:41.997Z"
   },
   {
    "duration": 27,
    "start_time": "2023-03-24T17:01:42.002Z"
   },
   {
    "duration": 38,
    "start_time": "2023-03-24T17:01:42.031Z"
   },
   {
    "duration": 12,
    "start_time": "2023-03-24T17:01:42.071Z"
   },
   {
    "duration": 24,
    "start_time": "2023-03-24T17:01:42.085Z"
   },
   {
    "duration": 24,
    "start_time": "2023-03-24T17:01:42.110Z"
   },
   {
    "duration": 38,
    "start_time": "2023-03-24T17:01:42.136Z"
   },
   {
    "duration": 20,
    "start_time": "2023-03-24T17:01:42.176Z"
   },
   {
    "duration": 34,
    "start_time": "2023-03-24T17:01:42.198Z"
   },
   {
    "duration": 14,
    "start_time": "2023-03-24T17:01:42.233Z"
   },
   {
    "duration": 39,
    "start_time": "2023-03-24T17:01:42.248Z"
   },
   {
    "duration": 1298,
    "start_time": "2023-03-24T17:01:42.289Z"
   },
   {
    "duration": 0,
    "start_time": "2023-03-24T17:01:43.589Z"
   },
   {
    "duration": 0,
    "start_time": "2023-03-24T17:01:43.590Z"
   },
   {
    "duration": 0,
    "start_time": "2023-03-24T17:01:43.591Z"
   },
   {
    "duration": 0,
    "start_time": "2023-03-24T17:01:43.593Z"
   },
   {
    "duration": 0,
    "start_time": "2023-03-24T17:01:43.594Z"
   },
   {
    "duration": 0,
    "start_time": "2023-03-24T17:01:43.595Z"
   },
   {
    "duration": 0,
    "start_time": "2023-03-24T17:01:43.596Z"
   },
   {
    "duration": 0,
    "start_time": "2023-03-24T17:01:43.597Z"
   },
   {
    "duration": 0,
    "start_time": "2023-03-24T17:01:43.598Z"
   },
   {
    "duration": 0,
    "start_time": "2023-03-24T17:01:43.599Z"
   },
   {
    "duration": 0,
    "start_time": "2023-03-24T17:01:43.600Z"
   },
   {
    "duration": 0,
    "start_time": "2023-03-24T17:01:43.601Z"
   },
   {
    "duration": 0,
    "start_time": "2023-03-24T17:01:43.603Z"
   },
   {
    "duration": 0,
    "start_time": "2023-03-24T17:01:43.604Z"
   },
   {
    "duration": 0,
    "start_time": "2023-03-24T17:01:43.605Z"
   },
   {
    "duration": 0,
    "start_time": "2023-03-24T17:01:43.606Z"
   },
   {
    "duration": 0,
    "start_time": "2023-03-24T17:01:43.607Z"
   },
   {
    "duration": 0,
    "start_time": "2023-03-24T17:01:43.608Z"
   },
   {
    "duration": 12,
    "start_time": "2023-03-24T17:02:27.365Z"
   },
   {
    "duration": 11,
    "start_time": "2023-03-24T17:03:01.874Z"
   },
   {
    "duration": 18,
    "start_time": "2023-03-24T17:03:08.633Z"
   },
   {
    "duration": 414,
    "start_time": "2023-03-24T17:09:53.450Z"
   },
   {
    "duration": 8,
    "start_time": "2023-03-24T17:09:53.950Z"
   },
   {
    "duration": 1187,
    "start_time": "2023-03-24T17:10:32.317Z"
   },
   {
    "duration": 157,
    "start_time": "2023-03-24T17:10:33.506Z"
   },
   {
    "duration": 32,
    "start_time": "2023-03-24T17:10:33.665Z"
   },
   {
    "duration": 3,
    "start_time": "2023-03-24T17:10:33.700Z"
   },
   {
    "duration": 8,
    "start_time": "2023-03-24T17:10:33.705Z"
   },
   {
    "duration": 27,
    "start_time": "2023-03-24T17:10:33.715Z"
   },
   {
    "duration": 9,
    "start_time": "2023-03-24T17:10:33.744Z"
   },
   {
    "duration": 13,
    "start_time": "2023-03-24T17:10:33.755Z"
   },
   {
    "duration": 20,
    "start_time": "2023-03-24T17:10:33.770Z"
   },
   {
    "duration": 25,
    "start_time": "2023-03-24T17:10:33.793Z"
   },
   {
    "duration": 7,
    "start_time": "2023-03-24T17:10:33.820Z"
   },
   {
    "duration": 11,
    "start_time": "2023-03-24T17:10:33.834Z"
   },
   {
    "duration": 7,
    "start_time": "2023-03-24T17:10:33.847Z"
   },
   {
    "duration": 20,
    "start_time": "2023-03-24T17:10:33.856Z"
   },
   {
    "duration": 20,
    "start_time": "2023-03-24T17:10:33.878Z"
   },
   {
    "duration": 3,
    "start_time": "2023-03-24T17:10:33.900Z"
   },
   {
    "duration": 9,
    "start_time": "2023-03-24T17:10:33.934Z"
   },
   {
    "duration": 11,
    "start_time": "2023-03-24T17:10:33.946Z"
   },
   {
    "duration": 635,
    "start_time": "2023-03-24T17:10:33.959Z"
   },
   {
    "duration": 218,
    "start_time": "2023-03-24T17:10:34.595Z"
   },
   {
    "duration": 324,
    "start_time": "2023-03-24T17:10:34.815Z"
   },
   {
    "duration": 165,
    "start_time": "2023-03-24T17:10:35.141Z"
   },
   {
    "duration": 261,
    "start_time": "2023-03-24T17:10:35.309Z"
   },
   {
    "duration": 140,
    "start_time": "2023-03-24T17:10:35.572Z"
   },
   {
    "duration": 5,
    "start_time": "2023-03-24T17:10:35.714Z"
   },
   {
    "duration": 137,
    "start_time": "2023-03-24T17:10:35.733Z"
   },
   {
    "duration": 5,
    "start_time": "2023-03-24T17:10:35.872Z"
   },
   {
    "duration": 279,
    "start_time": "2023-03-24T17:10:35.880Z"
   },
   {
    "duration": 182,
    "start_time": "2023-03-24T17:10:36.161Z"
   },
   {
    "duration": 11,
    "start_time": "2023-03-24T17:10:36.345Z"
   },
   {
    "duration": 11,
    "start_time": "2023-03-24T17:10:36.358Z"
   },
   {
    "duration": 41,
    "start_time": "2023-03-24T17:10:36.371Z"
   },
   {
    "duration": 14,
    "start_time": "2023-03-24T17:10:36.433Z"
   },
   {
    "duration": 555,
    "start_time": "2023-03-24T17:14:09.684Z"
   },
   {
    "duration": 567,
    "start_time": "2023-03-24T17:14:53.695Z"
   },
   {
    "duration": 488,
    "start_time": "2023-03-24T17:15:05.789Z"
   },
   {
    "duration": 519,
    "start_time": "2023-03-24T17:16:13.599Z"
   },
   {
    "duration": 472,
    "start_time": "2023-03-24T17:16:37.411Z"
   },
   {
    "duration": 486,
    "start_time": "2023-03-24T17:16:50.681Z"
   },
   {
    "duration": 527,
    "start_time": "2023-03-24T17:17:12.851Z"
   },
   {
    "duration": 522,
    "start_time": "2023-03-24T17:18:51.692Z"
   },
   {
    "duration": 512,
    "start_time": "2023-03-24T17:23:09.183Z"
   },
   {
    "duration": 475,
    "start_time": "2023-03-24T17:23:21.481Z"
   },
   {
    "duration": 571,
    "start_time": "2023-03-24T17:23:31.592Z"
   },
   {
    "duration": 539,
    "start_time": "2023-03-24T17:25:06.735Z"
   },
   {
    "duration": 475,
    "start_time": "2023-03-24T17:25:22.315Z"
   },
   {
    "duration": 529,
    "start_time": "2023-03-24T17:27:35.079Z"
   },
   {
    "duration": 476,
    "start_time": "2023-03-24T17:28:09.027Z"
   },
   {
    "duration": 510,
    "start_time": "2023-03-24T17:30:57.685Z"
   },
   {
    "duration": 513,
    "start_time": "2023-03-24T17:31:22.130Z"
   },
   {
    "duration": 481,
    "start_time": "2023-03-24T17:32:27.553Z"
   },
   {
    "duration": 528,
    "start_time": "2023-03-24T17:32:35.393Z"
   },
   {
    "duration": 489,
    "start_time": "2023-03-24T17:32:48.172Z"
   },
   {
    "duration": 463,
    "start_time": "2023-03-24T17:33:28.793Z"
   },
   {
    "duration": 8,
    "start_time": "2023-03-24T17:33:49.057Z"
   },
   {
    "duration": 627,
    "start_time": "2023-03-24T17:33:57.547Z"
   },
   {
    "duration": 467,
    "start_time": "2023-03-24T17:34:38.129Z"
   },
   {
    "duration": 484,
    "start_time": "2023-03-24T17:34:43.335Z"
   },
   {
    "duration": 237,
    "start_time": "2023-03-24T17:36:22.570Z"
   },
   {
    "duration": 315,
    "start_time": "2023-03-24T17:37:11.948Z"
   },
   {
    "duration": 292,
    "start_time": "2023-03-24T17:38:48.346Z"
   },
   {
    "duration": 308,
    "start_time": "2023-03-24T17:38:54.832Z"
   },
   {
    "duration": 103,
    "start_time": "2023-03-24T17:39:16.642Z"
   },
   {
    "duration": 92,
    "start_time": "2023-03-24T17:39:47.875Z"
   },
   {
    "duration": 71,
    "start_time": "2023-03-24T17:39:59.477Z"
   },
   {
    "duration": 288,
    "start_time": "2023-03-24T17:40:33.558Z"
   },
   {
    "duration": 211,
    "start_time": "2023-03-24T17:41:53.234Z"
   },
   {
    "duration": 290,
    "start_time": "2023-03-24T17:42:44.047Z"
   },
   {
    "duration": 286,
    "start_time": "2023-03-24T17:44:23.881Z"
   },
   {
    "duration": 322,
    "start_time": "2023-03-24T17:45:09.607Z"
   },
   {
    "duration": 123,
    "start_time": "2023-03-24T17:47:08.960Z"
   },
   {
    "duration": 107,
    "start_time": "2023-03-24T17:47:33.833Z"
   },
   {
    "duration": 117,
    "start_time": "2023-03-24T17:47:40.346Z"
   },
   {
    "duration": 48,
    "start_time": "2023-03-24T17:49:21.783Z"
   },
   {
    "duration": 1205,
    "start_time": "2023-03-24T17:49:58.329Z"
   },
   {
    "duration": 161,
    "start_time": "2023-03-24T17:49:59.536Z"
   },
   {
    "duration": 31,
    "start_time": "2023-03-24T17:49:59.699Z"
   },
   {
    "duration": 3,
    "start_time": "2023-03-24T17:49:59.732Z"
   },
   {
    "duration": 22,
    "start_time": "2023-03-24T17:49:59.737Z"
   },
   {
    "duration": 36,
    "start_time": "2023-03-24T17:49:59.761Z"
   },
   {
    "duration": 11,
    "start_time": "2023-03-24T17:49:59.799Z"
   },
   {
    "duration": 9,
    "start_time": "2023-03-24T17:50:01.029Z"
   },
   {
    "duration": 34,
    "start_time": "2023-03-24T17:50:01.040Z"
   },
   {
    "duration": 57,
    "start_time": "2023-03-24T17:50:01.076Z"
   },
   {
    "duration": 57,
    "start_time": "2023-03-24T17:50:01.135Z"
   },
   {
    "duration": 34,
    "start_time": "2023-03-24T17:50:01.194Z"
   },
   {
    "duration": 33,
    "start_time": "2023-03-24T17:50:01.230Z"
   },
   {
    "duration": 48,
    "start_time": "2023-03-24T17:50:01.265Z"
   },
   {
    "duration": 46,
    "start_time": "2023-03-24T17:50:01.315Z"
   },
   {
    "duration": 35,
    "start_time": "2023-03-24T17:50:01.363Z"
   },
   {
    "duration": 10,
    "start_time": "2023-03-24T17:50:01.711Z"
   },
   {
    "duration": 55,
    "start_time": "2023-03-24T17:50:01.723Z"
   },
   {
    "duration": 573,
    "start_time": "2023-03-24T17:50:01.841Z"
   },
   {
    "duration": 211,
    "start_time": "2023-03-24T17:50:02.416Z"
   },
   {
    "duration": 309,
    "start_time": "2023-03-24T17:50:02.629Z"
   },
   {
    "duration": 224,
    "start_time": "2023-03-24T17:50:02.940Z"
   },
   {
    "duration": 1298,
    "start_time": "2023-03-25T12:46:47.405Z"
   },
   {
    "duration": 420,
    "start_time": "2023-03-25T12:46:48.706Z"
   },
   {
    "duration": 26,
    "start_time": "2023-03-25T12:46:49.128Z"
   },
   {
    "duration": 4,
    "start_time": "2023-03-25T12:46:49.155Z"
   },
   {
    "duration": 4,
    "start_time": "2023-03-25T12:46:49.161Z"
   },
   {
    "duration": 21,
    "start_time": "2023-03-25T12:46:49.166Z"
   },
   {
    "duration": 7,
    "start_time": "2023-03-25T12:46:49.188Z"
   },
   {
    "duration": 10,
    "start_time": "2023-03-25T12:46:49.197Z"
   },
   {
    "duration": 9,
    "start_time": "2023-03-25T12:46:49.209Z"
   },
   {
    "duration": 49,
    "start_time": "2023-03-25T12:46:49.221Z"
   },
   {
    "duration": 5,
    "start_time": "2023-03-25T12:46:49.271Z"
   },
   {
    "duration": 7,
    "start_time": "2023-03-25T12:46:49.279Z"
   },
   {
    "duration": 6,
    "start_time": "2023-03-25T12:46:49.287Z"
   },
   {
    "duration": 14,
    "start_time": "2023-03-25T12:46:49.296Z"
   },
   {
    "duration": 64,
    "start_time": "2023-03-25T12:46:49.312Z"
   },
   {
    "duration": 4,
    "start_time": "2023-03-25T12:46:49.378Z"
   },
   {
    "duration": 10,
    "start_time": "2023-03-25T12:46:49.384Z"
   },
   {
    "duration": 12,
    "start_time": "2023-03-25T12:46:49.397Z"
   },
   {
    "duration": 569,
    "start_time": "2023-03-25T12:46:49.411Z"
   },
   {
    "duration": 268,
    "start_time": "2023-03-25T12:46:49.982Z"
   },
   {
    "duration": 309,
    "start_time": "2023-03-25T12:46:50.253Z"
   },
   {
    "duration": 185,
    "start_time": "2023-03-25T12:46:50.564Z"
   },
   {
    "duration": 338,
    "start_time": "2023-03-25T12:46:50.751Z"
   },
   {
    "duration": 129,
    "start_time": "2023-03-25T12:46:51.092Z"
   },
   {
    "duration": 133,
    "start_time": "2023-03-25T12:46:51.222Z"
   },
   {
    "duration": 171,
    "start_time": "2023-03-25T12:46:51.356Z"
   },
   {
    "duration": 5,
    "start_time": "2023-03-25T12:46:51.529Z"
   },
   {
    "duration": 268,
    "start_time": "2023-03-25T12:46:51.536Z"
   },
   {
    "duration": 127,
    "start_time": "2023-03-25T12:46:51.805Z"
   },
   {
    "duration": 10,
    "start_time": "2023-03-25T12:46:51.934Z"
   },
   {
    "duration": 24,
    "start_time": "2023-03-25T12:46:51.961Z"
   },
   {
    "duration": 55,
    "start_time": "2023-03-25T12:46:51.988Z"
   },
   {
    "duration": 25,
    "start_time": "2023-03-25T12:46:52.045Z"
   },
   {
    "duration": 1339,
    "start_time": "2023-03-25T13:05:11.639Z"
   },
   {
    "duration": 242,
    "start_time": "2023-03-25T13:05:12.980Z"
   },
   {
    "duration": 25,
    "start_time": "2023-03-25T13:05:13.224Z"
   },
   {
    "duration": 3,
    "start_time": "2023-03-25T13:05:13.250Z"
   },
   {
    "duration": 4,
    "start_time": "2023-03-25T13:05:13.256Z"
   },
   {
    "duration": 18,
    "start_time": "2023-03-25T13:05:13.262Z"
   },
   {
    "duration": 6,
    "start_time": "2023-03-25T13:05:13.282Z"
   },
   {
    "duration": 9,
    "start_time": "2023-03-25T13:05:13.289Z"
   },
   {
    "duration": 5,
    "start_time": "2023-03-25T13:05:13.300Z"
   },
   {
    "duration": 14,
    "start_time": "2023-03-25T13:05:13.307Z"
   },
   {
    "duration": 41,
    "start_time": "2023-03-25T13:05:13.322Z"
   },
   {
    "duration": 6,
    "start_time": "2023-03-25T13:05:13.365Z"
   },
   {
    "duration": 6,
    "start_time": "2023-03-25T13:05:13.373Z"
   },
   {
    "duration": 11,
    "start_time": "2023-03-25T13:05:13.382Z"
   },
   {
    "duration": 19,
    "start_time": "2023-03-25T13:05:13.394Z"
   },
   {
    "duration": 3,
    "start_time": "2023-03-25T13:05:13.415Z"
   },
   {
    "duration": 44,
    "start_time": "2023-03-25T13:05:13.420Z"
   },
   {
    "duration": 8,
    "start_time": "2023-03-25T13:05:13.466Z"
   },
   {
    "duration": 511,
    "start_time": "2023-03-25T13:05:13.476Z"
   },
   {
    "duration": 324,
    "start_time": "2023-03-25T13:05:13.989Z"
   },
   {
    "duration": 284,
    "start_time": "2023-03-25T13:05:14.315Z"
   },
   {
    "duration": 182,
    "start_time": "2023-03-25T13:05:14.601Z"
   },
   {
    "duration": 305,
    "start_time": "2023-03-25T13:05:14.786Z"
   },
   {
    "duration": 147,
    "start_time": "2023-03-25T13:05:15.092Z"
   },
   {
    "duration": 146,
    "start_time": "2023-03-25T13:05:15.241Z"
   },
   {
    "duration": 132,
    "start_time": "2023-03-25T13:05:15.388Z"
   },
   {
    "duration": 5,
    "start_time": "2023-03-25T13:05:15.522Z"
   },
   {
    "duration": 250,
    "start_time": "2023-03-25T13:05:15.529Z"
   },
   {
    "duration": 108,
    "start_time": "2023-03-25T13:05:15.781Z"
   },
   {
    "duration": 12,
    "start_time": "2023-03-25T13:05:15.891Z"
   },
   {
    "duration": 13,
    "start_time": "2023-03-25T13:05:15.905Z"
   },
   {
    "duration": 61,
    "start_time": "2023-03-25T13:05:15.920Z"
   },
   {
    "duration": 15,
    "start_time": "2023-03-25T13:05:15.984Z"
   },
   {
    "duration": 1148,
    "start_time": "2023-03-28T15:21:05.948Z"
   },
   {
    "duration": 197,
    "start_time": "2023-03-28T15:21:07.098Z"
   },
   {
    "duration": 29,
    "start_time": "2023-03-28T15:21:07.297Z"
   },
   {
    "duration": 27,
    "start_time": "2023-03-28T15:21:07.328Z"
   },
   {
    "duration": 22,
    "start_time": "2023-03-28T15:21:07.357Z"
   },
   {
    "duration": 30,
    "start_time": "2023-03-28T15:21:07.381Z"
   },
   {
    "duration": 11,
    "start_time": "2023-03-28T15:21:07.413Z"
   },
   {
    "duration": 13,
    "start_time": "2023-03-28T15:21:07.425Z"
   },
   {
    "duration": 13,
    "start_time": "2023-03-28T15:21:07.440Z"
   },
   {
    "duration": 20,
    "start_time": "2023-03-28T15:21:07.454Z"
   },
   {
    "duration": 24,
    "start_time": "2023-03-28T15:21:07.475Z"
   },
   {
    "duration": 8,
    "start_time": "2023-03-28T15:21:07.501Z"
   },
   {
    "duration": 10,
    "start_time": "2023-03-28T15:21:07.511Z"
   },
   {
    "duration": 20,
    "start_time": "2023-03-28T15:21:07.524Z"
   },
   {
    "duration": 14,
    "start_time": "2023-03-28T15:21:07.546Z"
   },
   {
    "duration": 10,
    "start_time": "2023-03-28T15:21:07.562Z"
   },
   {
    "duration": 27,
    "start_time": "2023-03-28T15:21:07.573Z"
   },
   {
    "duration": 18,
    "start_time": "2023-03-28T15:21:07.602Z"
   },
   {
    "duration": 29,
    "start_time": "2023-03-28T15:21:07.621Z"
   },
   {
    "duration": 23,
    "start_time": "2023-03-28T15:21:07.652Z"
   },
   {
    "duration": 556,
    "start_time": "2023-03-28T15:21:07.677Z"
   },
   {
    "duration": 203,
    "start_time": "2023-03-28T15:21:08.235Z"
   },
   {
    "duration": 273,
    "start_time": "2023-03-28T15:21:08.440Z"
   },
   {
    "duration": 195,
    "start_time": "2023-03-28T15:21:08.718Z"
   },
   {
    "duration": 318,
    "start_time": "2023-03-28T15:21:08.918Z"
   },
   {
    "duration": 131,
    "start_time": "2023-03-28T15:21:09.238Z"
   },
   {
    "duration": 6,
    "start_time": "2023-03-28T15:21:09.371Z"
   },
   {
    "duration": 146,
    "start_time": "2023-03-28T15:21:09.379Z"
   },
   {
    "duration": 135,
    "start_time": "2023-03-28T15:21:09.527Z"
   },
   {
    "duration": 5,
    "start_time": "2023-03-28T15:21:09.664Z"
   },
   {
    "duration": 314,
    "start_time": "2023-03-28T15:21:09.671Z"
   },
   {
    "duration": 179,
    "start_time": "2023-03-28T15:21:09.987Z"
   },
   {
    "duration": 11,
    "start_time": "2023-03-28T15:21:10.168Z"
   },
   {
    "duration": 13,
    "start_time": "2023-03-28T15:21:10.180Z"
   },
   {
    "duration": 48,
    "start_time": "2023-03-28T15:21:10.195Z"
   },
   {
    "duration": 15,
    "start_time": "2023-03-28T15:21:10.245Z"
   },
   {
    "duration": 1159,
    "start_time": "2023-03-28T15:24:25.744Z"
   },
   {
    "duration": 190,
    "start_time": "2023-03-28T15:24:26.904Z"
   },
   {
    "duration": 28,
    "start_time": "2023-03-28T15:24:27.095Z"
   },
   {
    "duration": 34,
    "start_time": "2023-03-28T15:24:27.125Z"
   },
   {
    "duration": 33,
    "start_time": "2023-03-28T15:24:27.161Z"
   },
   {
    "duration": 30,
    "start_time": "2023-03-28T15:24:27.196Z"
   },
   {
    "duration": 19,
    "start_time": "2023-03-28T15:24:27.228Z"
   },
   {
    "duration": 25,
    "start_time": "2023-03-28T15:24:27.249Z"
   },
   {
    "duration": 19,
    "start_time": "2023-03-28T15:24:27.275Z"
   },
   {
    "duration": 32,
    "start_time": "2023-03-28T15:24:27.296Z"
   },
   {
    "duration": 31,
    "start_time": "2023-03-28T15:24:27.330Z"
   },
   {
    "duration": 20,
    "start_time": "2023-03-28T15:24:27.363Z"
   },
   {
    "duration": 16,
    "start_time": "2023-03-28T15:24:27.384Z"
   },
   {
    "duration": 24,
    "start_time": "2023-03-28T15:24:27.404Z"
   },
   {
    "duration": 16,
    "start_time": "2023-03-28T15:24:27.430Z"
   },
   {
    "duration": 14,
    "start_time": "2023-03-28T15:24:27.448Z"
   },
   {
    "duration": 18,
    "start_time": "2023-03-28T15:24:27.463Z"
   },
   {
    "duration": 9,
    "start_time": "2023-03-28T15:24:27.483Z"
   },
   {
    "duration": 18,
    "start_time": "2023-03-28T15:24:27.493Z"
   },
   {
    "duration": 8,
    "start_time": "2023-03-28T15:24:27.517Z"
   },
   {
    "duration": 547,
    "start_time": "2023-03-28T15:24:27.527Z"
   },
   {
    "duration": 189,
    "start_time": "2023-03-28T15:24:28.075Z"
   },
   {
    "duration": 266,
    "start_time": "2023-03-28T15:24:28.265Z"
   },
   {
    "duration": 199,
    "start_time": "2023-03-28T15:24:28.533Z"
   },
   {
    "duration": 297,
    "start_time": "2023-03-28T15:24:28.734Z"
   },
   {
    "duration": 118,
    "start_time": "2023-03-28T15:24:29.033Z"
   },
   {
    "duration": 6,
    "start_time": "2023-03-28T15:24:29.152Z"
   },
   {
    "duration": 143,
    "start_time": "2023-03-28T15:24:29.160Z"
   },
   {
    "duration": 131,
    "start_time": "2023-03-28T15:24:29.305Z"
   },
   {
    "duration": 4,
    "start_time": "2023-03-28T15:24:29.438Z"
   },
   {
    "duration": 333,
    "start_time": "2023-03-28T15:24:29.444Z"
   },
   {
    "duration": 194,
    "start_time": "2023-03-28T15:24:29.779Z"
   },
   {
    "duration": 10,
    "start_time": "2023-03-28T15:24:29.975Z"
   },
   {
    "duration": 18,
    "start_time": "2023-03-28T15:24:29.987Z"
   },
   {
    "duration": 65,
    "start_time": "2023-03-28T15:24:30.017Z"
   },
   {
    "duration": 36,
    "start_time": "2023-03-28T15:24:30.083Z"
   }
  ],
  "kernelspec": {
   "display_name": "Python 3 (ipykernel)",
   "language": "python",
   "name": "python3"
  },
  "language_info": {
   "codemirror_mode": {
    "name": "ipython",
    "version": 3
   },
   "file_extension": ".py",
   "mimetype": "text/x-python",
   "name": "python",
   "nbconvert_exporter": "python",
   "pygments_lexer": "ipython3",
   "version": "3.9.15"
  },
  "toc": {
   "base_numbering": 1,
   "nav_menu": {
    "height": "148.999px",
    "width": "250px"
   },
   "number_sections": true,
   "sideBar": true,
   "skip_h1_title": true,
   "title_cell": "Table of Contents",
   "title_sidebar": "Contents",
   "toc_cell": false,
   "toc_position": {},
   "toc_section_display": true,
   "toc_window_display": false
  }
 },
 "nbformat": 4,
 "nbformat_minor": 5
}
