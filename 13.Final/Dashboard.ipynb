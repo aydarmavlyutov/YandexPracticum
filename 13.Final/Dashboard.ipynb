{
 "cells": [
  {
   "cell_type": "markdown",
   "id": "b1696875",
   "metadata": {},
   "source": [
    "Набор №1\n",
    "\n",
    "1. Постройте диаграмму, отражающую количество клиентов в зависимости от числа используемых продуктов.\n",
    "2. Добавьте на тот же график индикатор процента ушедших клиентов (уровень оттока среди владельцев данного числа продуктов).\n",
    "3. Добавьте фильтр дашборда по городу."
   ]
  },
  {
   "cell_type": "markdown",
   "id": "6e8b6c42",
   "metadata": {},
   "source": [
    "ссылка на дашборд:"
   ]
  },
  {
   "cell_type": "markdown",
   "id": "a609defe",
   "metadata": {},
   "source": [
    "https://public.tableau.com/views/_6_16852951933710/Dashboard3?:language=en-US&:display_count=n&:origin=viz_share_link"
   ]
  }
 ],
 "metadata": {
  "kernelspec": {
   "display_name": "Python 3 (ipykernel)",
   "language": "python",
   "name": "python3"
  },
  "language_info": {
   "codemirror_mode": {
    "name": "ipython",
    "version": 3
   },
   "file_extension": ".py",
   "mimetype": "text/x-python",
   "name": "python",
   "nbconvert_exporter": "python",
   "pygments_lexer": "ipython3",
   "version": "3.9.15"
  }
 },
 "nbformat": 4,
 "nbformat_minor": 5
}
